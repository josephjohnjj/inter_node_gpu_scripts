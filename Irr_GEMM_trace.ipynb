{
 "cells": [
  {
   "cell_type": "code",
   "execution_count": 2,
   "id": "1f5419c9",
   "metadata": {},
   "outputs": [],
   "source": [
    "import matplotlib.pyplot as plt\n",
    "import matplotlib as matplt\n",
    "import numpy as np\n",
    "import pandas as pd\n",
    "import seaborn as sns\n",
    "import os\n",
    "import glob\n",
    "import math\n",
    "import statistics\n",
    "import tables\n",
    "\n",
    "np.set_printoptions(precision=3, suppress=True)\n",
    "\n",
    "from matplotlib.gridspec import GridSpec"
   ]
  },
  {
   "cell_type": "code",
   "execution_count": 2,
   "id": "42cb4b4b",
   "metadata": {},
   "outputs": [
    {
     "name": "stdout",
     "output_type": "stream",
     "text": [
      "1.22.3\n",
      "1.4.1\n",
      "0.11.2\n",
      "3.5.1\n",
      "3.7.0\n"
     ]
    }
   ],
   "source": [
    "print (np.__version__)\n",
    "print (pd.__version__)\n",
    "print (sns.__version__)\n",
    "print (matplt.__version__)\n",
    "print (tables.__version__)"
   ]
  },
  {
   "cell_type": "markdown",
   "id": "6eaa32bc",
   "metadata": {},
   "source": [
    "# NOMIG"
   ]
  },
  {
   "cell_type": "code",
   "execution_count": 4,
   "id": "f7ece02d",
   "metadata": {},
   "outputs": [],
   "source": [
    "IrrGEMM_0_hd5 = pd.HDFStore(\"./traces/Irr_GEMM-0.prof.h5\")\n",
    "IrrGEMM_0_events = IrrGEMM_0_hd5.events\n",
    "IrrGEMM_0_hd5.close()"
   ]
  },
  {
   "cell_type": "code",
   "execution_count": 5,
   "id": "759fe240",
   "metadata": {},
   "outputs": [],
   "source": [
    "IrrGEMM_1_hd5 = pd.HDFStore(\"./traces/Irr_GEMM-1.prof.h5\")\n",
    "IrrGEMM_1_events = IrrGEMM_1_hd5.events\n",
    "IrrGEMM_1_hd5.close()\n"
   ]
  },
  {
   "cell_type": "code",
   "execution_count": 6,
   "id": "be708890",
   "metadata": {},
   "outputs": [],
   "source": [
    "IrrGEMM_2_hd5 = pd.HDFStore(\"./traces/Irr_GEMM-2.prof.h5\")\n",
    "IrrGEMM_2_events = IrrGEMM_2_hd5.events\n",
    "IrrGEMM_2_hd5.close()\n"
   ]
  },
  {
   "cell_type": "code",
   "execution_count": 7,
   "id": "471597ad",
   "metadata": {},
   "outputs": [],
   "source": [
    "IrrGEMM_3_hd5 = pd.HDFStore(\"./traces/Irr_GEMM-3.prof.h5\")\n",
    "IrrGEMM_3_events = IrrGEMM_3_hd5.events\n",
    "IrrGEMM_3_hd5.close()\n"
   ]
  },
  {
   "cell_type": "code",
   "execution_count": 9,
   "id": "8a0cff09",
   "metadata": {},
   "outputs": [
    {
     "data": {
      "text/plain": [
       "array([2, 4, -1, 6, 8, 10, 12], dtype=object)"
      ]
     },
     "execution_count": 9,
     "metadata": {},
     "output_type": "execute_result"
    }
   ],
   "source": [
    "\n",
    "IrrGEMM_3_events['taskpool_id'].unique()\n"
   ]
  },
  {
   "cell_type": "code",
   "execution_count": 10,
   "id": "274c8bec",
   "metadata": {},
   "outputs": [],
   "source": [
    "def filter_data_frame(df):\n",
    "   \n",
    "    df = df.astype(float)\n",
    "    \n",
    "\n",
    "    # remove the first run (warmup run)\n",
    "    df = df.loc[ df['taskpool_id'] == 6 ] \n",
    "\n",
    "    #Change all timimng values fron ns to ms\n",
    "    \n",
    "    df.reset_index(drop=True, inplace=True)\n",
    "    \n",
    "    \n",
    "    return df\n",
    "\n",
    "\n",
    "\n"
   ]
  },
  {
   "cell_type": "code",
   "execution_count": 54,
   "id": "b1349488",
   "metadata": {},
   "outputs": [
    {
     "data": {
      "text/plain": [
       "['g',\n",
       " 'nb_first_stage_in_h2d',\n",
       " 'rp',\n",
       " 'mcp',\n",
       " 'select_time',\n",
       " 'complete_time',\n",
       " 'first_stage_in_time_end',\n",
       " 'tp_nb_tasks',\n",
       " 'sec_stage_in_time_start',\n",
       " 'nb_sec_stage_in_d2d',\n",
       " 'node_id',\n",
       " 'k',\n",
       " 'sec_waiting_tasks',\n",
       " 'nb_first_stage_in',\n",
       " 'p',\n",
       " 'mrp',\n",
       " 'begin',\n",
       " 'cp',\n",
       " 'task_progress',\n",
       " 'complete_time_end',\n",
       " 'mp',\n",
       " 'type',\n",
       " 'exec_time_start',\n",
       " 'task_type',\n",
       " 'stage_out_time_start',\n",
       " 'dc_dataid',\n",
       " 'first_waiting_tasks',\n",
       " 'clock_speed',\n",
       " 'taskpool_id',\n",
       " 'nb_sec_stage_in_h2d',\n",
       " 'second_queue_time',\n",
       " 'ready_tasks',\n",
       " 'exec_stream_index',\n",
       " 'mig_status',\n",
       " 'stream_id',\n",
       " 'prank',\n",
       " 'qrank',\n",
       " 'task_count',\n",
       " 'device_index',\n",
       " 'id',\n",
       " 'first_queue_time',\n",
       " 'tcid',\n",
       " 'dc_key',\n",
       " 'n',\n",
       " 'exec_time_end',\n",
       " 'class_id',\n",
       " 'first_stage_in_time_start',\n",
       " 'complete_time_start',\n",
       " 'trc',\n",
       " 'stage_out_time_end',\n",
       " 'nb_sec_stage_in',\n",
       " 'nb_first_stage_in_d2d',\n",
       " 'mrp_p',\n",
       " 'end',\n",
       " 'priority',\n",
       " 'sec_stage_in_time_end',\n",
       " 'flags',\n",
       " 'm',\n",
       " 'src',\n",
       " 'dst',\n",
       " 'tid',\n",
       " 'tpid',\n",
       " 'msg_size',\n",
       " 'size',\n",
       " 'knext',\n",
       " 'kprev',\n",
       " 'dc_padding',\n",
       " 'data_key',\n",
       " 'dc_id']"
      ]
     },
     "execution_count": 54,
     "metadata": {},
     "output_type": "execute_result"
    }
   ],
   "source": [
    "list(IrrGEMM_0.columns)"
   ]
  },
  {
   "cell_type": "code",
   "execution_count": 12,
   "id": "de720c6e",
   "metadata": {},
   "outputs": [],
   "source": [
    "IrrGEMM_0 = filter_data_frame(IrrGEMM_0_events)\n"
   ]
  },
  {
   "cell_type": "code",
   "execution_count": 13,
   "id": "6aa33d57",
   "metadata": {},
   "outputs": [
    {
     "data": {
      "text/html": [
       "<div>\n",
       "<style scoped>\n",
       "    .dataframe tbody tr th:only-of-type {\n",
       "        vertical-align: middle;\n",
       "    }\n",
       "\n",
       "    .dataframe tbody tr th {\n",
       "        vertical-align: top;\n",
       "    }\n",
       "\n",
       "    .dataframe thead th {\n",
       "        text-align: right;\n",
       "    }\n",
       "</style>\n",
       "<table border=\"1\" class=\"dataframe\">\n",
       "  <thead>\n",
       "    <tr style=\"text-align: right;\">\n",
       "      <th></th>\n",
       "      <th>g</th>\n",
       "      <th>nb_first_stage_in_h2d</th>\n",
       "      <th>rp</th>\n",
       "      <th>mcp</th>\n",
       "      <th>select_time</th>\n",
       "      <th>complete_time</th>\n",
       "      <th>first_stage_in_time_end</th>\n",
       "      <th>tp_nb_tasks</th>\n",
       "      <th>sec_stage_in_time_start</th>\n",
       "      <th>nb_sec_stage_in_d2d</th>\n",
       "      <th>...</th>\n",
       "      <th>dst</th>\n",
       "      <th>tid</th>\n",
       "      <th>tpid</th>\n",
       "      <th>msg_size</th>\n",
       "      <th>size</th>\n",
       "      <th>knext</th>\n",
       "      <th>kprev</th>\n",
       "      <th>dc_padding</th>\n",
       "      <th>data_key</th>\n",
       "      <th>dc_id</th>\n",
       "    </tr>\n",
       "  </thead>\n",
       "  <tbody>\n",
       "    <tr>\n",
       "      <th>0</th>\n",
       "      <td>NaN</td>\n",
       "      <td>NaN</td>\n",
       "      <td>NaN</td>\n",
       "      <td>NaN</td>\n",
       "      <td>NaN</td>\n",
       "      <td>NaN</td>\n",
       "      <td>NaN</td>\n",
       "      <td>23.0</td>\n",
       "      <td>NaN</td>\n",
       "      <td>NaN</td>\n",
       "      <td>...</td>\n",
       "      <td>NaN</td>\n",
       "      <td>NaN</td>\n",
       "      <td>NaN</td>\n",
       "      <td>NaN</td>\n",
       "      <td>NaN</td>\n",
       "      <td>NaN</td>\n",
       "      <td>NaN</td>\n",
       "      <td>NaN</td>\n",
       "      <td>NaN</td>\n",
       "      <td>NaN</td>\n",
       "    </tr>\n",
       "    <tr>\n",
       "      <th>1</th>\n",
       "      <td>NaN</td>\n",
       "      <td>NaN</td>\n",
       "      <td>NaN</td>\n",
       "      <td>NaN</td>\n",
       "      <td>NaN</td>\n",
       "      <td>NaN</td>\n",
       "      <td>NaN</td>\n",
       "      <td>NaN</td>\n",
       "      <td>NaN</td>\n",
       "      <td>NaN</td>\n",
       "      <td>...</td>\n",
       "      <td>NaN</td>\n",
       "      <td>NaN</td>\n",
       "      <td>NaN</td>\n",
       "      <td>NaN</td>\n",
       "      <td>NaN</td>\n",
       "      <td>NaN</td>\n",
       "      <td>NaN</td>\n",
       "      <td>NaN</td>\n",
       "      <td>NaN</td>\n",
       "      <td>NaN</td>\n",
       "    </tr>\n",
       "    <tr>\n",
       "      <th>2</th>\n",
       "      <td>NaN</td>\n",
       "      <td>NaN</td>\n",
       "      <td>NaN</td>\n",
       "      <td>NaN</td>\n",
       "      <td>NaN</td>\n",
       "      <td>NaN</td>\n",
       "      <td>NaN</td>\n",
       "      <td>NaN</td>\n",
       "      <td>NaN</td>\n",
       "      <td>NaN</td>\n",
       "      <td>...</td>\n",
       "      <td>NaN</td>\n",
       "      <td>NaN</td>\n",
       "      <td>NaN</td>\n",
       "      <td>NaN</td>\n",
       "      <td>NaN</td>\n",
       "      <td>NaN</td>\n",
       "      <td>NaN</td>\n",
       "      <td>NaN</td>\n",
       "      <td>NaN</td>\n",
       "      <td>NaN</td>\n",
       "    </tr>\n",
       "    <tr>\n",
       "      <th>3</th>\n",
       "      <td>NaN</td>\n",
       "      <td>NaN</td>\n",
       "      <td>NaN</td>\n",
       "      <td>NaN</td>\n",
       "      <td>NaN</td>\n",
       "      <td>1.045214e+11</td>\n",
       "      <td>NaN</td>\n",
       "      <td>NaN</td>\n",
       "      <td>NaN</td>\n",
       "      <td>NaN</td>\n",
       "      <td>...</td>\n",
       "      <td>NaN</td>\n",
       "      <td>NaN</td>\n",
       "      <td>NaN</td>\n",
       "      <td>NaN</td>\n",
       "      <td>NaN</td>\n",
       "      <td>NaN</td>\n",
       "      <td>NaN</td>\n",
       "      <td>NaN</td>\n",
       "      <td>NaN</td>\n",
       "      <td>NaN</td>\n",
       "    </tr>\n",
       "    <tr>\n",
       "      <th>4</th>\n",
       "      <td>NaN</td>\n",
       "      <td>NaN</td>\n",
       "      <td>NaN</td>\n",
       "      <td>NaN</td>\n",
       "      <td>NaN</td>\n",
       "      <td>NaN</td>\n",
       "      <td>NaN</td>\n",
       "      <td>60.0</td>\n",
       "      <td>NaN</td>\n",
       "      <td>NaN</td>\n",
       "      <td>...</td>\n",
       "      <td>NaN</td>\n",
       "      <td>NaN</td>\n",
       "      <td>NaN</td>\n",
       "      <td>NaN</td>\n",
       "      <td>NaN</td>\n",
       "      <td>NaN</td>\n",
       "      <td>NaN</td>\n",
       "      <td>NaN</td>\n",
       "      <td>NaN</td>\n",
       "      <td>NaN</td>\n",
       "    </tr>\n",
       "  </tbody>\n",
       "</table>\n",
       "<p>5 rows × 69 columns</p>\n",
       "</div>"
      ],
      "text/plain": [
       "    g  nb_first_stage_in_h2d  rp  mcp  select_time  complete_time  \\\n",
       "0 NaN                    NaN NaN  NaN          NaN            NaN   \n",
       "1 NaN                    NaN NaN  NaN          NaN            NaN   \n",
       "2 NaN                    NaN NaN  NaN          NaN            NaN   \n",
       "3 NaN                    NaN NaN  NaN          NaN   1.045214e+11   \n",
       "4 NaN                    NaN NaN  NaN          NaN            NaN   \n",
       "\n",
       "   first_stage_in_time_end  tp_nb_tasks  sec_stage_in_time_start  \\\n",
       "0                      NaN         23.0                      NaN   \n",
       "1                      NaN          NaN                      NaN   \n",
       "2                      NaN          NaN                      NaN   \n",
       "3                      NaN          NaN                      NaN   \n",
       "4                      NaN         60.0                      NaN   \n",
       "\n",
       "   nb_sec_stage_in_d2d  ...  dst  tid  tpid  msg_size  size  knext  kprev  \\\n",
       "0                  NaN  ...  NaN  NaN   NaN       NaN   NaN    NaN    NaN   \n",
       "1                  NaN  ...  NaN  NaN   NaN       NaN   NaN    NaN    NaN   \n",
       "2                  NaN  ...  NaN  NaN   NaN       NaN   NaN    NaN    NaN   \n",
       "3                  NaN  ...  NaN  NaN   NaN       NaN   NaN    NaN    NaN   \n",
       "4                  NaN  ...  NaN  NaN   NaN       NaN   NaN    NaN    NaN   \n",
       "\n",
       "   dc_padding  data_key  dc_id  \n",
       "0         NaN       NaN    NaN  \n",
       "1         NaN       NaN    NaN  \n",
       "2         NaN       NaN    NaN  \n",
       "3         NaN       NaN    NaN  \n",
       "4         NaN       NaN    NaN  \n",
       "\n",
       "[5 rows x 69 columns]"
      ]
     },
     "execution_count": 13,
     "metadata": {},
     "output_type": "execute_result"
    }
   ],
   "source": [
    "IrrGEMM_0.head()\n"
   ]
  },
  {
   "cell_type": "code",
   "execution_count": 14,
   "id": "ac56ae31",
   "metadata": {},
   "outputs": [],
   "source": [
    "IrrGEMM_1 = filter_data_frame(IrrGEMM_1_events)"
   ]
  },
  {
   "cell_type": "code",
   "execution_count": 15,
   "id": "d563ad6a",
   "metadata": {},
   "outputs": [
    {
     "data": {
      "text/plain": [
       "array([  nan,    0.,  176., ..., 3231., 3103., 3052.])"
      ]
     },
     "execution_count": 15,
     "metadata": {},
     "output_type": "execute_result"
    }
   ],
   "source": [
    "IrrGEMM_0['ready_tasks'].unique()"
   ]
  },
  {
   "cell_type": "code",
   "execution_count": 16,
   "id": "e447a304",
   "metadata": {},
   "outputs": [
    {
     "data": {
      "text/plain": [
       "Text(0.5, 0, 'Execution time(ns)')"
      ]
     },
     "execution_count": 16,
     "metadata": {},
     "output_type": "execute_result"
    },
    {
     "data": {
      "image/png": "[encoded data removed]",
      "text/plain": [
       "<Figure size 1440x360 with 1 Axes>"
      ]
     },
     "metadata": {
      "needs_background": "light"
     },
     "output_type": "display_data"
    }
   ],
   "source": [
    "\n",
    "\n",
    "fig = plt.figure(figsize=(20, 5))\n",
    "gs = GridSpec(nrows=1, ncols=1)\n",
    "\n",
    "\n",
    "\n",
    "ax0 = fig.add_subplot(gs[0, 0])\n",
    "sns.scatterplot(data=IrrGEMM_0, x=\"complete_time\", y=\"ready_tasks\", ax=ax0, label='Node-0')\n",
    "sns.scatterplot(data=IrrGEMM_1, x=\"complete_time\", y=\"ready_tasks\", ax=ax0, label='Node-1')\n",
    "ax0.set_ylabel('#Tasks')\n",
    "ax0.set_xlabel('Execution time(ns)')\n",
    "#plt.legend([],[], frameon=False)\n",
    "\n",
    "\n",
    "\n",
    "\n",
    "#fig.savefig('Irr_GEMM.png', dpi=300, bbox_inches='tight')\n",
    "\n"
   ]
  },
  {
   "cell_type": "markdown",
   "id": "626ec947",
   "metadata": {},
   "source": [
    "# MIG"
   ]
  },
  {
   "cell_type": "code",
   "execution_count": 2,
   "id": "75501073",
   "metadata": {},
   "outputs": [
    {
     "ename": "AttributeError",
     "evalue": "'HDFStore' object has no attribute 'event_infos'",
     "output_type": "error",
     "traceback": [
      "\u001b[0;31m---------------------------------------------------------------------------\u001b[0m",
      "\u001b[0;31mAttributeError\u001b[0m                            Traceback (most recent call last)",
      "Input \u001b[0;32mIn [2]\u001b[0m, in \u001b[0;36m<cell line: 3>\u001b[0;34m()\u001b[0m\n\u001b[1;32m      1\u001b[0m IrrGEMM_mig_0_hd5 \u001b[38;5;241m=\u001b[39m pd\u001b[38;5;241m.\u001b[39mHDFStore(\u001b[38;5;124m\"\u001b[39m\u001b[38;5;124m./traces/Irr_GEMM_steal-0.prof.h5\u001b[39m\u001b[38;5;124m\"\u001b[39m)\n\u001b[1;32m      2\u001b[0m IrrGEMM_mig_0_events \u001b[38;5;241m=\u001b[39m IrrGEMM_mig_0_hd5\u001b[38;5;241m.\u001b[39mevents\n\u001b[0;32m----> 3\u001b[0m IrrGEMM_mig_0_event_infos \u001b[38;5;241m=\u001b[39m  \u001b[43mIrrGEMM_mig_0_hd5\u001b[49m\u001b[38;5;241;43m.\u001b[39;49m\u001b[43mevent_infos\u001b[49m\n\u001b[1;32m      4\u001b[0m IrrGEMM_mig_0_hd5\u001b[38;5;241m.\u001b[39mclose()\n",
      "File \u001b[0;32m/usr/local/lib/python3.9/site-packages/pandas/io/pytables.py:622\u001b[0m, in \u001b[0;36mHDFStore.__getattr__\u001b[0;34m(self, name)\u001b[0m\n\u001b[1;32m    620\u001b[0m \u001b[38;5;28;01mexcept\u001b[39;00m (\u001b[38;5;167;01mKeyError\u001b[39;00m, ClosedFileError):\n\u001b[1;32m    621\u001b[0m     \u001b[38;5;28;01mpass\u001b[39;00m\n\u001b[0;32m--> 622\u001b[0m \u001b[38;5;28;01mraise\u001b[39;00m \u001b[38;5;167;01mAttributeError\u001b[39;00m(\n\u001b[1;32m    623\u001b[0m     \u001b[38;5;124mf\u001b[39m\u001b[38;5;124m\"\u001b[39m\u001b[38;5;124m'\u001b[39m\u001b[38;5;132;01m{\u001b[39;00m\u001b[38;5;28mtype\u001b[39m(\u001b[38;5;28mself\u001b[39m)\u001b[38;5;241m.\u001b[39m\u001b[38;5;18m__name__\u001b[39m\u001b[38;5;132;01m}\u001b[39;00m\u001b[38;5;124m'\u001b[39m\u001b[38;5;124m object has no attribute \u001b[39m\u001b[38;5;124m'\u001b[39m\u001b[38;5;132;01m{\u001b[39;00mname\u001b[38;5;132;01m}\u001b[39;00m\u001b[38;5;124m'\u001b[39m\u001b[38;5;124m\"\u001b[39m\n\u001b[1;32m    624\u001b[0m )\n",
      "\u001b[0;31mAttributeError\u001b[0m: 'HDFStore' object has no attribute 'event_infos'"
     ]
    }
   ],
   "source": [
    "IrrGEMM_mig_0_hd5 = pd.HDFStore(\"./traces/Irr_GEMM_steal-0.prof.h5\")\n",
    "IrrGEMM_mig_0_events = IrrGEMM_mig_0_hd5.events\n",
    "#IrrGEMM_mig_0_event_infos =  IrrGEMM_mig_0_hd5.event_infos\n",
    "IrrGEMM_mig_0_hd5.close()\n"
   ]
  },
  {
   "cell_type": "code",
   "execution_count": 4,
   "id": "7450604b",
   "metadata": {},
   "outputs": [
    {
     "data": {
      "text/plain": [
       "['/errors',\n",
       " '/event_attributes',\n",
       " '/event_convertors',\n",
       " '/event_names',\n",
       " '/event_types',\n",
       " '/events',\n",
       " '/information',\n",
       " '/nodes',\n",
       " '/streams']"
      ]
     },
     "execution_count": 4,
     "metadata": {},
     "output_type": "execute_result"
    }
   ],
   "source": [
    "IrrGEMM_mig_0_hd5.keys()"
   ]
  },
  {
   "cell_type": "code",
   "execution_count": 6,
   "id": "024b617e",
   "metadata": {},
   "outputs": [
    {
     "data": {
      "text/plain": [
       "N/A                                                0\n",
       "TASK_MEMORY                                        1\n",
       "Device delegate                                    2\n",
       "RELEASE_DEPS                                       3\n",
       "ACTIVATE_CB                                        4\n",
       "DATA_FLUSH                                         5\n",
       "GPU_TASK_COUNT                                     6\n",
       "cuda                                               7\n",
       "movein                                             8\n",
       "moveout                                            9\n",
       "prefetch                                          10\n",
       "gpu_mem_alloc                                     11\n",
       "gpu_mem_use                                       12\n",
       "NODE_GPU_TASK_COUNT                               13\n",
       "NODE_ALL_TASK_COUNT                               14\n",
       "REQ_RECVD                                         15\n",
       "REQ_SEND                                          16\n",
       "REQ_INIT                                          17\n",
       "MPI_ACTIVATE                                      18\n",
       "MPI_DATA_CTL                                      19\n",
       "MPI_DATA_PLD_SND                                  20\n",
       "MPI_DATA_PLD_RCV                                  21\n",
       "PUT_CB                                            22\n",
       "irr_bs_tm_init::INIT                              23\n",
       "dgemm_irr_sparse_genB::GEMM                       24\n",
       "dgemm_irr_sparse_genB::ROW_PHASE_CONTROLLER       25\n",
       "dgemm_irr_sparse_genB::COLUMN_PHASE_CONTROLLER    26\n",
       "dgemm_irr_sparse_genB::READ_C                     27\n",
       "dgemm_irr_sparse_genB::GEN_B                      28\n",
       "dgemm_irr_sparse_genB::READ_A                     29\n",
       "dtype: int64"
      ]
     },
     "execution_count": 6,
     "metadata": {},
     "output_type": "execute_result"
    }
   ],
   "source": [
    "IrrGEMM_mig_0_hd5.event_types"
   ]
  },
  {
   "cell_type": "code",
   "execution_count": 7,
   "id": "6005d88a",
   "metadata": {},
   "outputs": [
    {
     "data": {
      "text/plain": [
       "['size',\n",
       " 'node_id',\n",
       " 'stream_id',\n",
       " 'taskpool_id',\n",
       " 'type',\n",
       " 'begin',\n",
       " 'end',\n",
       " 'flags',\n",
       " 'id',\n",
       " 'm',\n",
       " 'mrp_p',\n",
       " 'device_index',\n",
       " 'task_progress',\n",
       " 'launched_tasks',\n",
       " 'class_id',\n",
       " 'first_stage_in_time_end',\n",
       " 'data_key',\n",
       " 'tp_nb_tasks',\n",
       " 'stage_out_time_start',\n",
       " 'task_count',\n",
       " 'exec_time_start',\n",
       " 'task_type',\n",
       " 'tid',\n",
       " 'ready_tasks',\n",
       " 'p',\n",
       " 'trc',\n",
       " 'cp',\n",
       " 'mp',\n",
       " 'priority',\n",
       " 'req_recv_time',\n",
       " 'dc_dataid',\n",
       " 'rp',\n",
       " 'tpid',\n",
       " 'req_mutex',\n",
       " 'select_time',\n",
       " 'req_init_time',\n",
       " 'first_queue_time',\n",
       " 'k',\n",
       " 'sec_stage_in_time_start',\n",
       " 'complete_time_end',\n",
       " 'qrank',\n",
       " 'exec_time_end',\n",
       " 'g',\n",
       " 'mcp',\n",
       " 'src',\n",
       " 'mrp',\n",
       " 'prank',\n",
       " 'msg_size',\n",
       " 'nb_sec_stage_in_h2d',\n",
       " 'first_waiting_tasks',\n",
       " 'sec_waiting_tasks',\n",
       " 'req_send_time',\n",
       " 'nb_first_stage_in',\n",
       " 'second_queue_time',\n",
       " 'sec_stage_in_time_end',\n",
       " 'nb_sec_stage_in',\n",
       " 'mig_status',\n",
       " 'dc_id',\n",
       " 'dc_key',\n",
       " 'kprev',\n",
       " 'first_stage_in_time_start',\n",
       " 'gpu_tasks',\n",
       " 'dc_padding',\n",
       " 'nb_sec_stage_in_d2d',\n",
       " 'knext',\n",
       " 'exec_stream_index',\n",
       " 'stage_out_time_end',\n",
       " 'nb_first_stage_in_d2d',\n",
       " 'nb_first_stage_in_h2d',\n",
       " 'clock_speed',\n",
       " 'n',\n",
       " 'dst',\n",
       " 'tcid',\n",
       " 'complete_time_start',\n",
       " 'complete_time']"
      ]
     },
     "execution_count": 7,
     "metadata": {},
     "output_type": "execute_result"
    }
   ],
   "source": [
    "list(IrrGEMM_mig_0_events.columns)"
   ]
  },
  {
   "cell_type": "code",
   "execution_count": null,
   "id": "b6ac8fcb",
   "metadata": {},
   "outputs": [],
   "source": [
    "IrrGEMM_mig_1_hd5 = pd.HDFStore(\"./traces/Irr_GEMM_steal-1.prof.h5\")\n",
    "IrrGEMM_mig_1_events = IrrGEMM_mig_1_hd5.events\n",
    "IrrGEMM_mig_1_hd5.close()\n"
   ]
  },
  {
   "cell_type": "code",
   "execution_count": null,
   "id": "12657e5a",
   "metadata": {},
   "outputs": [],
   "source": [
    "list(IrrGEMM_mig_1_events.columns)"
   ]
  },
  {
   "cell_type": "code",
   "execution_count": null,
   "id": "90b74ff6",
   "metadata": {},
   "outputs": [],
   "source": [
    "list(IrrGEMM_mig_1_event_infos.columns)"
   ]
  },
  {
   "cell_type": "code",
   "execution_count": 11,
   "id": "551afa7c",
   "metadata": {},
   "outputs": [],
   "source": [
    "IrrGEMM_mig_2_hd5 = pd.HDFStore(\"./traces/Irr_GEMM_mig-3.prof.h5\")\n"
   ]
  },
  {
   "cell_type": "code",
   "execution_count": 12,
   "id": "e2453483",
   "metadata": {},
   "outputs": [],
   "source": [
    "IrrGEMM_mig_2_events = IrrGEMM_mig_2_hd5.events\n",
    "\n"
   ]
  },
  {
   "cell_type": "code",
   "execution_count": 13,
   "id": "6c0c1c6e",
   "metadata": {},
   "outputs": [
    {
     "data": {
      "text/plain": [
       "['ready_tasks',\n",
       " 'complete_time',\n",
       " 'trc',\n",
       " 'task_progress',\n",
       " 'flags',\n",
       " 'qrank',\n",
       " 'dc_key',\n",
       " 'g',\n",
       " 'knext',\n",
       " 'begin',\n",
       " 'priority',\n",
       " 'tid',\n",
       " 'gpu_tasks',\n",
       " 'rp',\n",
       " 'p',\n",
       " 'tp_nb_tasks',\n",
       " 'tpid',\n",
       " 'cp',\n",
       " 'dc_dataid',\n",
       " 'node_id',\n",
       " 'taskpool_id',\n",
       " 'id',\n",
       " 'end',\n",
       " 'kprev',\n",
       " 'type',\n",
       " 'stream_id',\n",
       " 'dst',\n",
       " 'tcid',\n",
       " 'm',\n",
       " 'n',\n",
       " 'prank',\n",
       " 'recv_time',\n",
       " 'msg_size',\n",
       " 'size',\n",
       " 'k',\n",
       " 'src',\n",
       " 'mrp_p',\n",
       " 'mp',\n",
       " 'clock_speed',\n",
       " 'sec_waiting_tasks',\n",
       " 'select_time',\n",
       " 'exec_time_end',\n",
       " 'first_stage_in_time_end',\n",
       " 'device_index',\n",
       " 'first_waiting_tasks',\n",
       " 'task_count',\n",
       " 'stage_out_time_start',\n",
       " 'mig_status',\n",
       " 'first_queue_time',\n",
       " 'exec_stream_index',\n",
       " 'exec_time_start',\n",
       " 'nb_sec_stage_in_h2d',\n",
       " 'nb_first_stage_in',\n",
       " 'nb_sec_stage_in',\n",
       " 'nb_first_stage_in_d2d',\n",
       " 'first_stage_in_time_start',\n",
       " 'complete_time_start',\n",
       " 'stage_out_time_end',\n",
       " 'class_id',\n",
       " 'nb_first_stage_in_h2d',\n",
       " 'sec_stage_in_time_start',\n",
       " 'nb_sec_stage_in_d2d',\n",
       " 'task_type',\n",
       " 'second_queue_time',\n",
       " 'sec_stage_in_time_end',\n",
       " 'complete_time_end']"
      ]
     },
     "execution_count": 13,
     "metadata": {},
     "output_type": "execute_result"
    }
   ],
   "source": [
    "list(IrrGEMM_mig_2_events.columns)"
   ]
  },
  {
   "cell_type": "code",
   "execution_count": 5,
   "id": "46a19bb6",
   "metadata": {},
   "outputs": [
    {
     "ename": "NameError",
     "evalue": "name 'IrrGEMM_mig_1_hd5' is not defined",
     "output_type": "error",
     "traceback": [
      "\u001b[0;31m---------------------------------------------------------------------------\u001b[0m",
      "\u001b[0;31mNameError\u001b[0m                                 Traceback (most recent call last)",
      "Input \u001b[0;32mIn [5]\u001b[0m, in \u001b[0;36m<cell line: 1>\u001b[0;34m()\u001b[0m\n\u001b[0;32m----> 1\u001b[0m IrrGEMM_mig_2_event_infos \u001b[38;5;241m=\u001b[39m  \u001b[43mIrrGEMM_mig_1_hd5\u001b[49m\u001b[38;5;241m.\u001b[39mevent_infos\n",
      "\u001b[0;31mNameError\u001b[0m: name 'IrrGEMM_mig_1_hd5' is not defined"
     ]
    }
   ],
   "source": [
    "IrrGEMM_mig_2_event_infos =  IrrGEMM_mig_1_hd5.event_infos"
   ]
  },
  {
   "cell_type": "code",
   "execution_count": 9,
   "id": "ad9f3078",
   "metadata": {},
   "outputs": [
    {
     "data": {
      "text/plain": [
       "['/errors',\n",
       " '/event_attributes',\n",
       " '/event_convertors',\n",
       " '/event_names',\n",
       " '/event_types',\n",
       " '/events',\n",
       " '/information',\n",
       " '/nodes',\n",
       " '/streams']"
      ]
     },
     "execution_count": 9,
     "metadata": {},
     "output_type": "execute_result"
    }
   ],
   "source": [
    "IrrGEMM_mig_2_hd5.keys()"
   ]
  },
  {
   "cell_type": "code",
   "execution_count": 10,
   "id": "289d68d4",
   "metadata": {},
   "outputs": [
    {
     "data": {
      "text/plain": [
       "N/A                                                0\n",
       "TASK_MEMORY                                        1\n",
       "Device delegate                                    2\n",
       "RELEASE_DEPS                                       3\n",
       "ACTIVATE_CB                                        4\n",
       "DATA_FLUSH                                         5\n",
       "GPU_TASK_COUNT                                     6\n",
       "cuda                                               7\n",
       "movein                                             8\n",
       "moveout                                            9\n",
       "prefetch                                          10\n",
       "gpu_mem_alloc                                     11\n",
       "gpu_mem_use                                       12\n",
       "NODE_GPU_TASK_COUNT                               13\n",
       "NODE_ALL_TASK_COUNT                               14\n",
       "REQ_RECVD                                         15\n",
       "MPI_ACTIVATE                                      16\n",
       "MPI_DATA_CTL                                      17\n",
       "MPI_DATA_PLD_SND                                  18\n",
       "MPI_DATA_PLD_RCV                                  19\n",
       "PUT_CB                                            20\n",
       "irr_bs_tm_init::INIT                              21\n",
       "dgemm_irr_sparse_genB::GEMM                       22\n",
       "dgemm_irr_sparse_genB::ROW_PHASE_CONTROLLER       23\n",
       "dgemm_irr_sparse_genB::COLUMN_PHASE_CONTROLLER    24\n",
       "dgemm_irr_sparse_genB::READ_C                     25\n",
       "dgemm_irr_sparse_genB::GEN_B                      26\n",
       "dgemm_irr_sparse_genB::READ_A                     27\n",
       "dtype: int64"
      ]
     },
     "execution_count": 10,
     "metadata": {},
     "output_type": "execute_result"
    }
   ],
   "source": [
    "IrrGEMM_mig_2_hd5.event_types"
   ]
  },
  {
   "cell_type": "code",
   "execution_count": null,
   "id": "04050260",
   "metadata": {},
   "outputs": [],
   "source": [
    "IrrGEMM_mig_2_hd5.close()"
   ]
  },
  {
   "cell_type": "code",
   "execution_count": null,
   "id": "37c18492",
   "metadata": {},
   "outputs": [],
   "source": [
    "IrrGEMM_mig_3_hd5 = pd.HDFStore(\"./traces/Irr_GEMM_mig-3.prof.h5\")\n",
    "IrrGEMM_mig_3_events = IrrGEMM_mig_3_hd5.events\n",
    "IrrGEMM_mig_3_hd5.close()\n"
   ]
  },
  {
   "cell_type": "code",
   "execution_count": 9,
   "id": "3efb8661",
   "metadata": {},
   "outputs": [
    {
     "ename": "KeyError",
     "evalue": "'ready_tasks'",
     "output_type": "error",
     "traceback": [
      "\u001b[0;31m---------------------------------------------------------------------------\u001b[0m",
      "\u001b[0;31mKeyError\u001b[0m                                  Traceback (most recent call last)",
      "File \u001b[0;32m/usr/local/lib/python3.9/site-packages/pandas/core/indexes/base.py:3621\u001b[0m, in \u001b[0;36mIndex.get_loc\u001b[0;34m(self, key, method, tolerance)\u001b[0m\n\u001b[1;32m   3620\u001b[0m \u001b[38;5;28;01mtry\u001b[39;00m:\n\u001b[0;32m-> 3621\u001b[0m     \u001b[38;5;28;01mreturn\u001b[39;00m \u001b[38;5;28;43mself\u001b[39;49m\u001b[38;5;241;43m.\u001b[39;49m\u001b[43m_engine\u001b[49m\u001b[38;5;241;43m.\u001b[39;49m\u001b[43mget_loc\u001b[49m\u001b[43m(\u001b[49m\u001b[43mcasted_key\u001b[49m\u001b[43m)\u001b[49m\n\u001b[1;32m   3622\u001b[0m \u001b[38;5;28;01mexcept\u001b[39;00m \u001b[38;5;167;01mKeyError\u001b[39;00m \u001b[38;5;28;01mas\u001b[39;00m err:\n",
      "File \u001b[0;32m/usr/local/lib/python3.9/site-packages/pandas/_libs/index.pyx:136\u001b[0m, in \u001b[0;36mpandas._libs.index.IndexEngine.get_loc\u001b[0;34m()\u001b[0m\n",
      "File \u001b[0;32m/usr/local/lib/python3.9/site-packages/pandas/_libs/index.pyx:163\u001b[0m, in \u001b[0;36mpandas._libs.index.IndexEngine.get_loc\u001b[0;34m()\u001b[0m\n",
      "File \u001b[0;32mpandas/_libs/hashtable_class_helper.pxi:5198\u001b[0m, in \u001b[0;36mpandas._libs.hashtable.PyObjectHashTable.get_item\u001b[0;34m()\u001b[0m\n",
      "File \u001b[0;32mpandas/_libs/hashtable_class_helper.pxi:5206\u001b[0m, in \u001b[0;36mpandas._libs.hashtable.PyObjectHashTable.get_item\u001b[0;34m()\u001b[0m\n",
      "\u001b[0;31mKeyError\u001b[0m: 'ready_tasks'",
      "\nThe above exception was the direct cause of the following exception:\n",
      "\u001b[0;31mKeyError\u001b[0m                                  Traceback (most recent call last)",
      "Input \u001b[0;32mIn [9]\u001b[0m, in \u001b[0;36m<cell line: 1>\u001b[0;34m()\u001b[0m\n\u001b[0;32m----> 1\u001b[0m \u001b[43mIrrGEMM_mig_0_events\u001b[49m\u001b[43m[\u001b[49m\u001b[38;5;124;43m'\u001b[39;49m\u001b[38;5;124;43mready_tasks\u001b[39;49m\u001b[38;5;124;43m'\u001b[39;49m\u001b[43m]\u001b[49m\u001b[38;5;241m.\u001b[39munique()\n",
      "File \u001b[0;32m/usr/local/lib/python3.9/site-packages/pandas/core/frame.py:3505\u001b[0m, in \u001b[0;36mDataFrame.__getitem__\u001b[0;34m(self, key)\u001b[0m\n\u001b[1;32m   3503\u001b[0m \u001b[38;5;28;01mif\u001b[39;00m \u001b[38;5;28mself\u001b[39m\u001b[38;5;241m.\u001b[39mcolumns\u001b[38;5;241m.\u001b[39mnlevels \u001b[38;5;241m>\u001b[39m \u001b[38;5;241m1\u001b[39m:\n\u001b[1;32m   3504\u001b[0m     \u001b[38;5;28;01mreturn\u001b[39;00m \u001b[38;5;28mself\u001b[39m\u001b[38;5;241m.\u001b[39m_getitem_multilevel(key)\n\u001b[0;32m-> 3505\u001b[0m indexer \u001b[38;5;241m=\u001b[39m \u001b[38;5;28;43mself\u001b[39;49m\u001b[38;5;241;43m.\u001b[39;49m\u001b[43mcolumns\u001b[49m\u001b[38;5;241;43m.\u001b[39;49m\u001b[43mget_loc\u001b[49m\u001b[43m(\u001b[49m\u001b[43mkey\u001b[49m\u001b[43m)\u001b[49m\n\u001b[1;32m   3506\u001b[0m \u001b[38;5;28;01mif\u001b[39;00m is_integer(indexer):\n\u001b[1;32m   3507\u001b[0m     indexer \u001b[38;5;241m=\u001b[39m [indexer]\n",
      "File \u001b[0;32m/usr/local/lib/python3.9/site-packages/pandas/core/indexes/base.py:3623\u001b[0m, in \u001b[0;36mIndex.get_loc\u001b[0;34m(self, key, method, tolerance)\u001b[0m\n\u001b[1;32m   3621\u001b[0m     \u001b[38;5;28;01mreturn\u001b[39;00m \u001b[38;5;28mself\u001b[39m\u001b[38;5;241m.\u001b[39m_engine\u001b[38;5;241m.\u001b[39mget_loc(casted_key)\n\u001b[1;32m   3622\u001b[0m \u001b[38;5;28;01mexcept\u001b[39;00m \u001b[38;5;167;01mKeyError\u001b[39;00m \u001b[38;5;28;01mas\u001b[39;00m err:\n\u001b[0;32m-> 3623\u001b[0m     \u001b[38;5;28;01mraise\u001b[39;00m \u001b[38;5;167;01mKeyError\u001b[39;00m(key) \u001b[38;5;28;01mfrom\u001b[39;00m \u001b[38;5;21;01merr\u001b[39;00m\n\u001b[1;32m   3624\u001b[0m \u001b[38;5;28;01mexcept\u001b[39;00m \u001b[38;5;167;01mTypeError\u001b[39;00m:\n\u001b[1;32m   3625\u001b[0m     \u001b[38;5;66;03m# If we have a listlike key, _check_indexing_error will raise\u001b[39;00m\n\u001b[1;32m   3626\u001b[0m     \u001b[38;5;66;03m#  InvalidIndexError. Otherwise we fall through and re-raise\u001b[39;00m\n\u001b[1;32m   3627\u001b[0m     \u001b[38;5;66;03m#  the TypeError.\u001b[39;00m\n\u001b[1;32m   3628\u001b[0m     \u001b[38;5;28mself\u001b[39m\u001b[38;5;241m.\u001b[39m_check_indexing_error(key)\n",
      "\u001b[0;31mKeyError\u001b[0m: 'ready_tasks'"
     ]
    }
   ],
   "source": [
    "IrrGEMM_mig_0_events['ready_tasks'].unique()"
   ]
  },
  {
   "cell_type": "code",
   "execution_count": 7,
   "id": "2d0d3dc2",
   "metadata": {},
   "outputs": [
    {
     "ename": "ValueError",
     "evalue": "Could not interpret value `req_init_time` for parameter `x`",
     "output_type": "error",
     "traceback": [
      "\u001b[0;31m---------------------------------------------------------------------------\u001b[0m",
      "\u001b[0;31mValueError\u001b[0m                                Traceback (most recent call last)",
      "Input \u001b[0;32mIn [7]\u001b[0m, in \u001b[0;36m<cell line: 10>\u001b[0;34m()\u001b[0m\n\u001b[1;32m      2\u001b[0m gs \u001b[38;5;241m=\u001b[39m GridSpec(nrows\u001b[38;5;241m=\u001b[39m\u001b[38;5;241m4\u001b[39m, ncols\u001b[38;5;241m=\u001b[39m\u001b[38;5;241m1\u001b[39m)\n\u001b[1;32m      6\u001b[0m ax0 \u001b[38;5;241m=\u001b[39m fig\u001b[38;5;241m.\u001b[39madd_subplot(gs[\u001b[38;5;241m0\u001b[39m, \u001b[38;5;241m0\u001b[39m])\n\u001b[0;32m---> 10\u001b[0m \u001b[43msns\u001b[49m\u001b[38;5;241;43m.\u001b[39;49m\u001b[43mscatterplot\u001b[49m\u001b[43m(\u001b[49m\u001b[43mdata\u001b[49m\u001b[38;5;241;43m=\u001b[39;49m\u001b[43mIrrGEMM_mig_2_events\u001b[49m\u001b[43m,\u001b[49m\u001b[43m \u001b[49m\u001b[43mx\u001b[49m\u001b[38;5;241;43m=\u001b[39;49m\u001b[38;5;124;43m\"\u001b[39;49m\u001b[38;5;124;43mreq_init_time\u001b[39;49m\u001b[38;5;124;43m\"\u001b[39;49m\u001b[43m,\u001b[49m\u001b[43m \u001b[49m\u001b[43my\u001b[49m\u001b[38;5;241;43m=\u001b[39;49m\u001b[38;5;241;43m6000\u001b[39;49m\u001b[43m,\u001b[49m\u001b[43m \u001b[49m\u001b[43max\u001b[49m\u001b[38;5;241;43m=\u001b[39;49m\u001b[43max0\u001b[49m\u001b[43m,\u001b[49m\u001b[43m \u001b[49m\u001b[43mlabel\u001b[49m\u001b[38;5;241;43m=\u001b[39;49m\u001b[38;5;124;43m'\u001b[39;49m\u001b[38;5;124;43mSteal Request Initiated\u001b[39;49m\u001b[38;5;124;43m'\u001b[39;49m\u001b[43m)\u001b[49m\n\u001b[1;32m     12\u001b[0m sns\u001b[38;5;241m.\u001b[39mscatterplot(data\u001b[38;5;241m=\u001b[39mIrrGEMM_mig_2_events, x\u001b[38;5;241m=\u001b[39m\u001b[38;5;124m\"\u001b[39m\u001b[38;5;124mreq_send_time\u001b[39m\u001b[38;5;124m\"\u001b[39m, y\u001b[38;5;241m=\u001b[39m\u001b[38;5;241m7000\u001b[39m, ax\u001b[38;5;241m=\u001b[39max0, label\u001b[38;5;241m=\u001b[39m\u001b[38;5;124m'\u001b[39m\u001b[38;5;124mSteal Request Sent\u001b[39m\u001b[38;5;124m'\u001b[39m)\n\u001b[1;32m     14\u001b[0m sns\u001b[38;5;241m.\u001b[39mscatterplot(data\u001b[38;5;241m=\u001b[39mIrrGEMM_mig_2_events, x\u001b[38;5;241m=\u001b[39m\u001b[38;5;124m\"\u001b[39m\u001b[38;5;124mreq_recv_time\u001b[39m\u001b[38;5;124m\"\u001b[39m, y\u001b[38;5;241m=\u001b[39m\u001b[38;5;241m8000\u001b[39m, ax\u001b[38;5;241m=\u001b[39max0, label\u001b[38;5;241m=\u001b[39m\u001b[38;5;124m'\u001b[39m\u001b[38;5;124mSteal Request Recieved\u001b[39m\u001b[38;5;124m'\u001b[39m)\n",
      "File \u001b[0;32m/usr/local/lib/python3.9/site-packages/seaborn/_decorators.py:46\u001b[0m, in \u001b[0;36m_deprecate_positional_args.<locals>.inner_f\u001b[0;34m(*args, **kwargs)\u001b[0m\n\u001b[1;32m     36\u001b[0m     warnings\u001b[38;5;241m.\u001b[39mwarn(\n\u001b[1;32m     37\u001b[0m         \u001b[38;5;124m\"\u001b[39m\u001b[38;5;124mPass the following variable\u001b[39m\u001b[38;5;132;01m{}\u001b[39;00m\u001b[38;5;124m as \u001b[39m\u001b[38;5;132;01m{}\u001b[39;00m\u001b[38;5;124mkeyword arg\u001b[39m\u001b[38;5;132;01m{}\u001b[39;00m\u001b[38;5;124m: \u001b[39m\u001b[38;5;132;01m{}\u001b[39;00m\u001b[38;5;124m. \u001b[39m\u001b[38;5;124m\"\u001b[39m\n\u001b[1;32m     38\u001b[0m         \u001b[38;5;124m\"\u001b[39m\u001b[38;5;124mFrom version 0.12, the only valid positional argument \u001b[39m\u001b[38;5;124m\"\u001b[39m\n\u001b[0;32m   (...)\u001b[0m\n\u001b[1;32m     43\u001b[0m         \u001b[38;5;167;01mFutureWarning\u001b[39;00m\n\u001b[1;32m     44\u001b[0m     )\n\u001b[1;32m     45\u001b[0m kwargs\u001b[38;5;241m.\u001b[39mupdate({k: arg \u001b[38;5;28;01mfor\u001b[39;00m k, arg \u001b[38;5;129;01min\u001b[39;00m \u001b[38;5;28mzip\u001b[39m(sig\u001b[38;5;241m.\u001b[39mparameters, args)})\n\u001b[0;32m---> 46\u001b[0m \u001b[38;5;28;01mreturn\u001b[39;00m \u001b[43mf\u001b[49m\u001b[43m(\u001b[49m\u001b[38;5;241;43m*\u001b[39;49m\u001b[38;5;241;43m*\u001b[39;49m\u001b[43mkwargs\u001b[49m\u001b[43m)\u001b[49m\n",
      "File \u001b[0;32m/usr/local/lib/python3.9/site-packages/seaborn/relational.py:808\u001b[0m, in \u001b[0;36mscatterplot\u001b[0;34m(x, y, hue, style, size, data, palette, hue_order, hue_norm, sizes, size_order, size_norm, markers, style_order, x_bins, y_bins, units, estimator, ci, n_boot, alpha, x_jitter, y_jitter, legend, ax, **kwargs)\u001b[0m\n\u001b[1;32m    793\u001b[0m \u001b[38;5;129m@_deprecate_positional_args\u001b[39m\n\u001b[1;32m    794\u001b[0m \u001b[38;5;28;01mdef\u001b[39;00m \u001b[38;5;21mscatterplot\u001b[39m(\n\u001b[1;32m    795\u001b[0m     \u001b[38;5;241m*\u001b[39m,\n\u001b[0;32m   (...)\u001b[0m\n\u001b[1;32m    804\u001b[0m     legend\u001b[38;5;241m=\u001b[39m\u001b[38;5;124m\"\u001b[39m\u001b[38;5;124mauto\u001b[39m\u001b[38;5;124m\"\u001b[39m, ax\u001b[38;5;241m=\u001b[39m\u001b[38;5;28;01mNone\u001b[39;00m, \u001b[38;5;241m*\u001b[39m\u001b[38;5;241m*\u001b[39mkwargs\n\u001b[1;32m    805\u001b[0m ):\n\u001b[1;32m    807\u001b[0m     variables \u001b[38;5;241m=\u001b[39m _ScatterPlotter\u001b[38;5;241m.\u001b[39mget_semantics(\u001b[38;5;28mlocals\u001b[39m())\n\u001b[0;32m--> 808\u001b[0m     p \u001b[38;5;241m=\u001b[39m \u001b[43m_ScatterPlotter\u001b[49m\u001b[43m(\u001b[49m\n\u001b[1;32m    809\u001b[0m \u001b[43m        \u001b[49m\u001b[43mdata\u001b[49m\u001b[38;5;241;43m=\u001b[39;49m\u001b[43mdata\u001b[49m\u001b[43m,\u001b[49m\u001b[43m \u001b[49m\u001b[43mvariables\u001b[49m\u001b[38;5;241;43m=\u001b[39;49m\u001b[43mvariables\u001b[49m\u001b[43m,\u001b[49m\n\u001b[1;32m    810\u001b[0m \u001b[43m        \u001b[49m\u001b[43mx_bins\u001b[49m\u001b[38;5;241;43m=\u001b[39;49m\u001b[43mx_bins\u001b[49m\u001b[43m,\u001b[49m\u001b[43m \u001b[49m\u001b[43my_bins\u001b[49m\u001b[38;5;241;43m=\u001b[39;49m\u001b[43my_bins\u001b[49m\u001b[43m,\u001b[49m\n\u001b[1;32m    811\u001b[0m \u001b[43m        \u001b[49m\u001b[43mestimator\u001b[49m\u001b[38;5;241;43m=\u001b[39;49m\u001b[43mestimator\u001b[49m\u001b[43m,\u001b[49m\u001b[43m \u001b[49m\u001b[43mci\u001b[49m\u001b[38;5;241;43m=\u001b[39;49m\u001b[43mci\u001b[49m\u001b[43m,\u001b[49m\u001b[43m \u001b[49m\u001b[43mn_boot\u001b[49m\u001b[38;5;241;43m=\u001b[39;49m\u001b[43mn_boot\u001b[49m\u001b[43m,\u001b[49m\n\u001b[1;32m    812\u001b[0m \u001b[43m        \u001b[49m\u001b[43malpha\u001b[49m\u001b[38;5;241;43m=\u001b[39;49m\u001b[43malpha\u001b[49m\u001b[43m,\u001b[49m\u001b[43m \u001b[49m\u001b[43mx_jitter\u001b[49m\u001b[38;5;241;43m=\u001b[39;49m\u001b[43mx_jitter\u001b[49m\u001b[43m,\u001b[49m\u001b[43m \u001b[49m\u001b[43my_jitter\u001b[49m\u001b[38;5;241;43m=\u001b[39;49m\u001b[43my_jitter\u001b[49m\u001b[43m,\u001b[49m\u001b[43m \u001b[49m\u001b[43mlegend\u001b[49m\u001b[38;5;241;43m=\u001b[39;49m\u001b[43mlegend\u001b[49m\u001b[43m,\u001b[49m\n\u001b[1;32m    813\u001b[0m \u001b[43m    \u001b[49m\u001b[43m)\u001b[49m\n\u001b[1;32m    815\u001b[0m     p\u001b[38;5;241m.\u001b[39mmap_hue(palette\u001b[38;5;241m=\u001b[39mpalette, order\u001b[38;5;241m=\u001b[39mhue_order, norm\u001b[38;5;241m=\u001b[39mhue_norm)\n\u001b[1;32m    816\u001b[0m     p\u001b[38;5;241m.\u001b[39mmap_size(sizes\u001b[38;5;241m=\u001b[39msizes, order\u001b[38;5;241m=\u001b[39msize_order, norm\u001b[38;5;241m=\u001b[39msize_norm)\n",
      "File \u001b[0;32m/usr/local/lib/python3.9/site-packages/seaborn/relational.py:587\u001b[0m, in \u001b[0;36m_ScatterPlotter.__init__\u001b[0;34m(self, data, variables, x_bins, y_bins, estimator, ci, n_boot, alpha, x_jitter, y_jitter, legend)\u001b[0m\n\u001b[1;32m    571\u001b[0m \u001b[38;5;28;01mdef\u001b[39;00m \u001b[38;5;21m__init__\u001b[39m(\n\u001b[1;32m    572\u001b[0m     \u001b[38;5;28mself\u001b[39m, \u001b[38;5;241m*\u001b[39m,\n\u001b[1;32m    573\u001b[0m     data\u001b[38;5;241m=\u001b[39m\u001b[38;5;28;01mNone\u001b[39;00m, variables\u001b[38;5;241m=\u001b[39m{},\n\u001b[0;32m   (...)\u001b[0m\n\u001b[1;32m    581\u001b[0m     \u001b[38;5;66;03m# the kind of plot to draw, but for the time being we need to set\u001b[39;00m\n\u001b[1;32m    582\u001b[0m     \u001b[38;5;66;03m# this information so the SizeMapping can use it\u001b[39;00m\n\u001b[1;32m    583\u001b[0m     \u001b[38;5;28mself\u001b[39m\u001b[38;5;241m.\u001b[39m_default_size_range \u001b[38;5;241m=\u001b[39m (\n\u001b[1;32m    584\u001b[0m         np\u001b[38;5;241m.\u001b[39mr_[\u001b[38;5;241m.5\u001b[39m, \u001b[38;5;241m2\u001b[39m] \u001b[38;5;241m*\u001b[39m np\u001b[38;5;241m.\u001b[39msquare(mpl\u001b[38;5;241m.\u001b[39mrcParams[\u001b[38;5;124m\"\u001b[39m\u001b[38;5;124mlines.markersize\u001b[39m\u001b[38;5;124m\"\u001b[39m])\n\u001b[1;32m    585\u001b[0m     )\n\u001b[0;32m--> 587\u001b[0m     \u001b[38;5;28;43msuper\u001b[39;49m\u001b[43m(\u001b[49m\u001b[43m)\u001b[49m\u001b[38;5;241;43m.\u001b[39;49m\u001b[38;5;21;43m__init__\u001b[39;49m\u001b[43m(\u001b[49m\u001b[43mdata\u001b[49m\u001b[38;5;241;43m=\u001b[39;49m\u001b[43mdata\u001b[49m\u001b[43m,\u001b[49m\u001b[43m \u001b[49m\u001b[43mvariables\u001b[49m\u001b[38;5;241;43m=\u001b[39;49m\u001b[43mvariables\u001b[49m\u001b[43m)\u001b[49m\n\u001b[1;32m    589\u001b[0m     \u001b[38;5;28mself\u001b[39m\u001b[38;5;241m.\u001b[39malpha \u001b[38;5;241m=\u001b[39m alpha\n\u001b[1;32m    590\u001b[0m     \u001b[38;5;28mself\u001b[39m\u001b[38;5;241m.\u001b[39mlegend \u001b[38;5;241m=\u001b[39m legend\n",
      "File \u001b[0;32m/usr/local/lib/python3.9/site-packages/seaborn/_core.py:605\u001b[0m, in \u001b[0;36mVectorPlotter.__init__\u001b[0;34m(self, data, variables)\u001b[0m\n\u001b[1;32m    603\u001b[0m \u001b[38;5;28;01mdef\u001b[39;00m \u001b[38;5;21m__init__\u001b[39m(\u001b[38;5;28mself\u001b[39m, data\u001b[38;5;241m=\u001b[39m\u001b[38;5;28;01mNone\u001b[39;00m, variables\u001b[38;5;241m=\u001b[39m{}):\n\u001b[0;32m--> 605\u001b[0m     \u001b[38;5;28;43mself\u001b[39;49m\u001b[38;5;241;43m.\u001b[39;49m\u001b[43massign_variables\u001b[49m\u001b[43m(\u001b[49m\u001b[43mdata\u001b[49m\u001b[43m,\u001b[49m\u001b[43m \u001b[49m\u001b[43mvariables\u001b[49m\u001b[43m)\u001b[49m\n\u001b[1;32m    607\u001b[0m     \u001b[38;5;28;01mfor\u001b[39;00m var, \u001b[38;5;28mcls\u001b[39m \u001b[38;5;129;01min\u001b[39;00m \u001b[38;5;28mself\u001b[39m\u001b[38;5;241m.\u001b[39m_semantic_mappings\u001b[38;5;241m.\u001b[39mitems():\n\u001b[1;32m    608\u001b[0m \n\u001b[1;32m    609\u001b[0m         \u001b[38;5;66;03m# Create the mapping function\u001b[39;00m\n\u001b[1;32m    610\u001b[0m         map_func \u001b[38;5;241m=\u001b[39m partial(\u001b[38;5;28mcls\u001b[39m\u001b[38;5;241m.\u001b[39mmap, plotter\u001b[38;5;241m=\u001b[39m\u001b[38;5;28mself\u001b[39m)\n",
      "File \u001b[0;32m/usr/local/lib/python3.9/site-packages/seaborn/_core.py:668\u001b[0m, in \u001b[0;36mVectorPlotter.assign_variables\u001b[0;34m(self, data, variables)\u001b[0m\n\u001b[1;32m    666\u001b[0m \u001b[38;5;28;01melse\u001b[39;00m:\n\u001b[1;32m    667\u001b[0m     \u001b[38;5;28mself\u001b[39m\u001b[38;5;241m.\u001b[39minput_format \u001b[38;5;241m=\u001b[39m \u001b[38;5;124m\"\u001b[39m\u001b[38;5;124mlong\u001b[39m\u001b[38;5;124m\"\u001b[39m\n\u001b[0;32m--> 668\u001b[0m     plot_data, variables \u001b[38;5;241m=\u001b[39m \u001b[38;5;28;43mself\u001b[39;49m\u001b[38;5;241;43m.\u001b[39;49m\u001b[43m_assign_variables_longform\u001b[49m\u001b[43m(\u001b[49m\n\u001b[1;32m    669\u001b[0m \u001b[43m        \u001b[49m\u001b[43mdata\u001b[49m\u001b[43m,\u001b[49m\u001b[43m \u001b[49m\u001b[38;5;241;43m*\u001b[39;49m\u001b[38;5;241;43m*\u001b[39;49m\u001b[43mvariables\u001b[49m\u001b[43m,\u001b[49m\n\u001b[1;32m    670\u001b[0m \u001b[43m    \u001b[49m\u001b[43m)\u001b[49m\n\u001b[1;32m    672\u001b[0m \u001b[38;5;28mself\u001b[39m\u001b[38;5;241m.\u001b[39mplot_data \u001b[38;5;241m=\u001b[39m plot_data\n\u001b[1;32m    673\u001b[0m \u001b[38;5;28mself\u001b[39m\u001b[38;5;241m.\u001b[39mvariables \u001b[38;5;241m=\u001b[39m variables\n",
      "File \u001b[0;32m/usr/local/lib/python3.9/site-packages/seaborn/_core.py:903\u001b[0m, in \u001b[0;36mVectorPlotter._assign_variables_longform\u001b[0;34m(self, data, **kwargs)\u001b[0m\n\u001b[1;32m    898\u001b[0m \u001b[38;5;28;01melif\u001b[39;00m \u001b[38;5;28misinstance\u001b[39m(val, (\u001b[38;5;28mstr\u001b[39m, \u001b[38;5;28mbytes\u001b[39m)):\n\u001b[1;32m    899\u001b[0m \n\u001b[1;32m    900\u001b[0m     \u001b[38;5;66;03m# This looks like a column name but we don't know what it means!\u001b[39;00m\n\u001b[1;32m    902\u001b[0m     err \u001b[38;5;241m=\u001b[39m \u001b[38;5;124mf\u001b[39m\u001b[38;5;124m\"\u001b[39m\u001b[38;5;124mCould not interpret value `\u001b[39m\u001b[38;5;132;01m{\u001b[39;00mval\u001b[38;5;132;01m}\u001b[39;00m\u001b[38;5;124m` for parameter `\u001b[39m\u001b[38;5;132;01m{\u001b[39;00mkey\u001b[38;5;132;01m}\u001b[39;00m\u001b[38;5;124m`\u001b[39m\u001b[38;5;124m\"\u001b[39m\n\u001b[0;32m--> 903\u001b[0m     \u001b[38;5;28;01mraise\u001b[39;00m \u001b[38;5;167;01mValueError\u001b[39;00m(err)\n\u001b[1;32m    905\u001b[0m \u001b[38;5;28;01melse\u001b[39;00m:\n\u001b[1;32m    906\u001b[0m \n\u001b[1;32m    907\u001b[0m     \u001b[38;5;66;03m# Otherwise, assume the value is itself data\u001b[39;00m\n\u001b[1;32m    908\u001b[0m \n\u001b[1;32m    909\u001b[0m     \u001b[38;5;66;03m# Raise when data object is present and a vector can't matched\u001b[39;00m\n\u001b[1;32m    910\u001b[0m     \u001b[38;5;28;01mif\u001b[39;00m \u001b[38;5;28misinstance\u001b[39m(data, pd\u001b[38;5;241m.\u001b[39mDataFrame) \u001b[38;5;129;01mand\u001b[39;00m \u001b[38;5;129;01mnot\u001b[39;00m \u001b[38;5;28misinstance\u001b[39m(val, pd\u001b[38;5;241m.\u001b[39mSeries):\n",
      "\u001b[0;31mValueError\u001b[0m: Could not interpret value `req_init_time` for parameter `x`"
     ]
    },
    {
     "data": {
      "image/png": "[encoded data removed]",
      "text/plain": [
       "<Figure size 1440x1440 with 1 Axes>"
      ]
     },
     "metadata": {
      "needs_background": "light"
     },
     "output_type": "display_data"
    }
   ],
   "source": [
    "\n",
    "fig = plt.figure(figsize=(20, 20))\n",
    "gs = GridSpec(nrows=4, ncols=1)\n",
    "\n",
    "\n",
    "\n",
    "ax0 = fig.add_subplot(gs[0, 0])\n",
    "\n",
    "\n",
    "\n",
    "sns.scatterplot(data=IrrGEMM_mig_2_events, x=\"req_init_time\", y=6000, ax=ax0, label='Steal Request Initiated')\n",
    "\n",
    "sns.scatterplot(data=IrrGEMM_mig_2_events, x=\"req_send_time\", y=7000, ax=ax0, label='Steal Request Sent')\n",
    "\n",
    "sns.scatterplot(data=IrrGEMM_mig_2_events, x=\"req_recv_time\", y=8000, ax=ax0, label='Steal Request Recieved')\n",
    "\n",
    "sns.scatterplot(data=IrrGEMM_mig_2_events, x=\"complete_time\", y=\"ready_tasks\", ax=ax0, label='Launched GPU tasks')\n",
    "\n",
    "sns.scatterplot(data=IrrGEMM_mig_2_events, x=\"task_progress\", y=\"tp_nb_tasks\", ax=ax0, label='Ready GPU+CPU tasks')\n",
    "\n",
    "ax0.set_ylabel('#Tasks')\n",
    "ax0.set_xlabel('Execution time(ns)')\n",
    "#plt.legend([],[], frameon=False)"
   ]
  },
  {
   "cell_type": "code",
   "execution_count": null,
   "id": "d321d8fa",
   "metadata": {},
   "outputs": [],
   "source": [
    "\n",
    "\n",
    "fig = plt.figure(figsize=(20, 20))\n",
    "gs = GridSpec(nrows=4, ncols=1)\n",
    "\n",
    "\n",
    "\n",
    "ax0 = fig.add_subplot(gs[0, 0])\n",
    "\n",
    "\n",
    "\n",
    "sns.scatterplot(data=IrrGEMM_mig_0_events, x=\"req_init_time\", y=6000, ax=ax0, label='Steal Request Initiated')\n",
    "\n",
    "sns.scatterplot(data=IrrGEMM_mig_0_events, x=\"req_send_time\", y=7000, ax=ax0, label='Steal Request Sent')\n",
    "\n",
    "sns.scatterplot(data=IrrGEMM_mig_0_events, x=\"req_recv_time\", y=8000, ax=ax0, label='Steal Request Recieved')\n",
    "\n",
    "sns.scatterplot(data=IrrGEMM_mig_0_events, x=\"complete_time\", y=\"ready_tasks\", ax=ax0, label='Launched GPU tasks')\n",
    "\n",
    "sns.scatterplot(data=IrrGEMM_mig_0_events, x=\"task_progress\", y=\"tp_nb_tasks\", ax=ax0, label='Ready GPU+CPU tasks')\n",
    "\n",
    "ax0.set_ylabel('#Tasks')\n",
    "ax0.set_xlabel('Execution time(ns)')\n",
    "#plt.legend([],[], frameon=False)\n",
    "\n",
    "ax1 = fig.add_subplot(gs[1, 0])\n",
    "\n",
    "\n",
    "sns.scatterplot(data=IrrGEMM_mig_1_events, x=\"req_init_time\", y=6000, ax=ax1, label='Steal Request Initiated')\n",
    "\n",
    "sns.scatterplot(data=IrrGEMM_mig_1_events, x=\"req_send_time\", y=7000, ax=ax1, label='Steal Request Sent')\n",
    "\n",
    "sns.scatterplot(data=IrrGEMM_mig_1_events, x=\"req_recv_time\", y=8000, ax=ax1, label='Steal Request Recieved')\n",
    "\n",
    "sns.scatterplot(data=IrrGEMM_mig_1_events, x=\"complete_time\", y=\"ready_tasks\", ax=ax1, label='Launched GPU tasks')\n",
    "\n",
    "sns.scatterplot(data=IrrGEMM_mig_1_events, x=\"task_progress\", y=\"tp_nb_tasks\", ax=ax1, label='Ready GPU+CPU tasks')\n",
    "\n",
    "\n",
    "\n",
    "ax1.set_ylabel('#Tasks')\n",
    "ax1.set_xlabel('Execution time(ns)')\n",
    "\n",
    "ax2 = fig.add_subplot(gs[2, 0])\n",
    "\n",
    "\n",
    "sns.scatterplot(data=IrrGEMM_mig_2_events, x=\"req_init_time\", y=6000, ax=ax2, label='Steal Request Initiated')\n",
    "\n",
    "sns.scatterplot(data=IrrGEMM_mig_2_events, x=\"req_send_time\", y=7000, ax=ax2, label='Steal Request Sent')\n",
    "\n",
    "sns.scatterplot(data=IrrGEMM_mig_2_events, x=\"req_recv_time\", y=8000, ax=ax2, label='Steal Request Recieved')\n",
    "\n",
    "sns.scatterplot(data=IrrGEMM_mig_2_events, x=\"complete_time\", y=\"ready_tasks\", ax=ax2, label='Launched GPU tasks')\n",
    "\n",
    "sns.scatterplot(data=IrrGEMM_mig_2_events, x=\"task_progress\", y=\"tp_nb_tasks\", ax=ax2, label='Ready GPU+CPU tasks')\n",
    "\n",
    "\n",
    "\n",
    "ax2.set_ylabel('#Tasks')\n",
    "ax2.set_xlabel('Execution time(ns)')\n",
    "\n",
    "\n",
    "ax3 = fig.add_subplot(gs[3, 0])\n",
    "\n",
    "\n",
    "sns.scatterplot(data=IrrGEMM_mig_3_events, x=\"req_init_time\", y=6000, ax=ax3, label='Steal Request Initiated')\n",
    "\n",
    "sns.scatterplot(data=IrrGEMM_mig_3_events, x=\"req_send_time\", y=7000, ax=ax3, label='Steal Request Sent')\n",
    "\n",
    "sns.scatterplot(data=IrrGEMM_mig_3_events, x=\"req_recv_time\", y=8000, ax=ax3, label='Steal Request Recieved')\n",
    "\n",
    "sns.scatterplot(data=IrrGEMM_mig_3_events, x=\"complete_time\", y=\"ready_tasks\", ax=ax3, label='Launched GPU tasks')\n",
    "\n",
    "sns.scatterplot(data=IrrGEMM_mig_3_events, x=\"task_progress\", y=\"tp_nb_tasks\", ax=ax3, label='Ready GPU+CPU tasks')\n",
    "\n",
    "\n",
    "ax3.set_ylabel('#Tasks')\n",
    "ax3.set_xlabel('Execution time(ns)')\n",
    "\n",
    "\n",
    "\n",
    "\n",
    "\n",
    "#fig.savefig('Irr_GEMM.png', dpi=300, bbox_inches='tight')\n",
    "\n"
   ]
  }
 ],
 "metadata": {
  "kernelspec": {
   "display_name": "Python 3 (ipykernel)",
   "language": "python",
   "name": "python3"
  },
  "language_info": {
   "codemirror_mode": {
    "name": "ipython",
    "version": 3
   },
   "file_extension": ".py",
   "mimetype": "text/x-python",
   "name": "python",
   "nbconvert_exporter": "python",
   "pygments_lexer": "ipython3",
   "version": "3.9.16"
  }
 },
 "nbformat": 4,
 "nbformat_minor": 5
}
