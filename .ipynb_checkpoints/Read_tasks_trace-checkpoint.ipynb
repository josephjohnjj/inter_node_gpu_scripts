{
 "cells": [
  {
   "cell_type": "code",
   "execution_count": 1,
   "id": "1f5419c9",
   "metadata": {},
   "outputs": [],
   "source": [
    "import matplotlib.pyplot as plt\n",
    "import matplotlib as matplt\n",
    "import numpy as np\n",
    "import pandas as pd\n",
    "import seaborn as sns\n",
    "import os\n",
    "import glob\n",
    "import math\n",
    "import statistics\n",
    "import tables\n",
    "\n",
    "np.set_printoptions(precision=3, suppress=True)\n",
    "\n",
    "from matplotlib.gridspec import GridSpec"
   ]
  },
  {
   "cell_type": "code",
   "execution_count": 2,
   "id": "42cb4b4b",
   "metadata": {},
   "outputs": [
    {
     "name": "stdout",
     "output_type": "stream",
     "text": [
      "1.22.3\n",
      "1.4.1\n",
      "0.11.2\n",
      "3.5.1\n",
      "3.7.0\n"
     ]
    }
   ],
   "source": [
    "print (np.__version__)\n",
    "print (pd.__version__)\n",
    "print (sns.__version__)\n",
    "print (matplt.__version__)\n",
    "print (tables.__version__)"
   ]
  },
  {
   "cell_type": "markdown",
   "id": "8aeeccf6",
   "metadata": {},
   "source": [
    "### GFlops"
   ]
  },
  {
   "cell_type": "markdown",
   "id": "e7310261",
   "metadata": {},
   "source": [
    "```\n",
    "[****] TIME(s)      3.22098 : dgemm     PxQxg=   2 2   4 NB= 1000 N=   20000 :    4967.436444 gflops - ENQ&PROG&DEST      3.66241 :    4368.703656 gflops - ENQ      0.28749 - DEST      0.15395\n",
    "[****] TIME(s)      6.02851 : dgemm     PxQxg=   2 2   4 NB= 1000 N=   20000 :    2654.056578 gflops - ENQ&PROG&DEST      6.46031 :    2476.662532 gflops - ENQ      0.28386 - DEST      0.14794\n",
    "[****] TIME(s)      2.87919 : dgemm     PxQxg=   2 2   4 NB= 1000 N=   20000 :    5557.111294 gflops - ENQ&PROG&DEST      4.54857 :    3517.588002 gflops - ENQ      1.51079 - DEST      0.15858\n",
    "[****] TIME(s)      1.87453 : dgemm     PxQxg=   2 2   4 NB= 1000 N=   20000 :    8535.453872 gflops - ENQ&PROG&DEST      3.27446 :    4886.309225 gflops - ENQ      1.25257 - DEST      0.14735\n",
    "[****] TIME(s)      1.22998 : dgemm     PxQxg=   2 2   4 NB= 1000 N=   20000 :   13008.321082 gflops - ENQ&PROG&DEST      2.02987 :    7882.291363 gflops - ENQ      0.65180 - DEST      0.14809\n",
    "[****] TIME(s)      1.14327 : dgemm     PxQxg=   2 2   4 NB= 1000 N=   20000 :   13994.967303 gflops - ENQ&PROG&DEST      2.56529 :    6237.117040 gflops - ENQ      1.27663 - DEST      0.14539\n",
    "[****] TIME(s)      1.04338 : dgemm     PxQxg=   2 2   4 NB= 1000 N=   20000 :   15334.839998 gflops - ENQ&PROG&DEST      1.88256 :    8499.061577 gflops - ENQ      0.70343 - DEST      0.13575\n",
    "[****] TIME(s)      2.08452 : dgemm     PxQxg=   2 2   4 NB= 1000 N=   20000 :    7675.632591 gflops - ENQ&PROG&DEST      2.60477 :    6142.578289 gflops - ENQ      0.38905 - DEST      0.13120\n",
    "[****] TIME(s)      1.28172 : dgemm     PxQxg=   2 2   4 NB= 1000 N=   20000 :   12483.235415 gflops - ENQ&PROG&DEST      1.68951 :    9470.223600 gflops - ENQ      0.27398 - DEST      0.13380\n",
    "[****] TIME(s)      1.61039 : dgemm     PxQxg=   2 2   4 NB= 1000 N=   20000 :    9935.503277 gflops - ENQ&PROG&DEST      2.28172 :    7012.245610 gflops - ENQ      0.53835 - DEST      0.13298\n",
    "[****] TIME(s)      1.01597 : dgemm     PxQxg=   2 2   4 NB= 1000 N=   20000 :   15748.437204 gflops - ENQ&PROG&DEST      1.71023 :    9355.480052 gflops - ENQ      0.55533 - DEST      0.13892\n",
    "[****] TIME(s)      1.16663 : dgemm     PxQxg=   2 2   4 NB= 1000 N=   20000 :   13714.731596 gflops - ENQ&PROG&DEST      1.84482 :    8672.925480 gflops - ENQ      0.54429 - DEST      0.13391\n",
    "[****] TIME(s)      1.08299 : dgemm     PxQxg=   2 2   4 NB= 1000 N=   20000 :   14773.869282 gflops - ENQ&PROG&DEST      1.49860 :   10676.664587 gflops - ENQ      0.28109 - DEST      0.13451\n",
    "[****] TIME(s)      1.06064 : dgemm     PxQxg=   2 2   4 NB= 1000 N=   20000 :   15085.250659 gflops - ENQ&PROG&DEST      1.46504 :   10921.178887 gflops - ENQ      0.27076 - DEST      0.13365\n",
    "[****] TIME(s)      1.04738 : dgemm     PxQxg=   2 2   4 NB= 1000 N=   20000 :   15276.178373 gflops - ENQ&PROG&DEST      2.05948 :    7768.949341 gflops - ENQ      0.87772 - DEST      0.13438\n",
    "[****] TIME(s)      1.02542 : dgemm     PxQxg=   2 2   4 NB= 1000 N=   20000 :   15603.312843 gflops - ENQ&PROG&DEST      1.74678 :    9159.687183 gflops - ENQ      0.58988 - DEST      0.13148\n",
    "[****] TIME(s)      1.04373 : dgemm     PxQxg=   2 2   4 NB= 1000 N=   20000 :   15329.689608 gflops - ENQ&PROG&DEST      1.46704 :   10906.327045 gflops - ENQ      0.29017 - DEST      0.13314\n",
    "[****] TIME(s)      1.71460 : dgemm     PxQxg=   2 2   4 NB= 1000 N=   20000 :    9331.621583 gflops - ENQ&PROG&DEST      2.12741 :    7520.882818 gflops - ENQ      0.27937 - DEST      0.13344\n",
    "[****] TIME(s)      1.23063 : dgemm     PxQxg=   2 2   4 NB= 1000 N=   20000 :   13001.466523 gflops - ENQ&PROG&DEST      1.63325 :    9796.396346 gflops - ENQ      0.26910 - DEST      0.13352\n",
    "[****] TIME(s)      1.04708 : dgemm     PxQxg=   2 2   4 NB= 1000 N=   20000 :   15280.525065 gflops - ENQ&PROG&DEST      1.49989 :   10667.415171 gflops - ENQ      0.31919 - DEST      0.13362\n",
    "\n",
    "```"
   ]
  },
  {
   "cell_type": "code",
   "execution_count": 8,
   "id": "f7ece02d",
   "metadata": {},
   "outputs": [],
   "source": [
    "read_0_hd5 = pd.HDFStore(\"./traces/GEMM_read-0.prof.h5\")\n",
    "read_0_events = read_0_hd5.events\n",
    "read_0_hd5.close()"
   ]
  },
  {
   "cell_type": "code",
   "execution_count": 9,
   "id": "759fe240",
   "metadata": {},
   "outputs": [],
   "source": [
    "read_1_hd5 = pd.HDFStore(\"./traces/GEMM_read-1.prof.h5\")\n",
    "read_1_events = read_1_hd5.events\n",
    "read_1_hd5.close()\n"
   ]
  },
  {
   "cell_type": "code",
   "execution_count": 10,
   "id": "be708890",
   "metadata": {},
   "outputs": [],
   "source": [
    "read_2_hd5 = pd.HDFStore(\"./traces/GEMM_read-2.prof.h5\")\n",
    "read_2_events = read_2_hd5.events\n",
    "read_2_hd5.close()\n"
   ]
  },
  {
   "cell_type": "code",
   "execution_count": 11,
   "id": "471597ad",
   "metadata": {},
   "outputs": [],
   "source": [
    "read_3_hd5 = pd.HDFStore(\"./traces/GEMM_read-3.prof.h5\")\n",
    "read_3_events = read_3_hd5.events\n",
    "read_3_hd5.close()\n"
   ]
  },
  {
   "cell_type": "code",
   "execution_count": 13,
   "id": "3a29d37a",
   "metadata": {},
   "outputs": [
    {
     "data": {
      "text/plain": [
       "array([None, 0, 1, 2, 4, 5, 3, 6], dtype=object)"
      ]
     },
     "execution_count": 13,
     "metadata": {},
     "output_type": "execute_result"
    }
   ],
   "source": [
    "read_0_events['tcid'].unique()"
   ]
  },
  {
   "cell_type": "code",
   "execution_count": 14,
   "id": "8d41e049",
   "metadata": {},
   "outputs": [],
   "source": [
    "GEMM_task_class_id   = 5\n",
    "READ_C_task_class_id = 3\n",
    "READ_B_task_class_id = 2\n",
    "READ_A_task_class_id = 0"
   ]
  },
  {
   "cell_type": "code",
   "execution_count": 15,
   "id": "61b5bbf6",
   "metadata": {},
   "outputs": [],
   "source": [
    "def filter_data_frame_class(df, class_id):\n",
    "   \n",
    "    df = df.astype(float)\n",
    "      \n",
    "    # remove first run\n",
    "    df = df.loc[ df['taskpool_id'] > 8 ] \n",
    "    df = df.loc[ df['tcid'] == class_id ] \n",
    "\n",
    "    \n",
    "    df.reset_index(drop=True, inplace=True)\n",
    "    \n",
    "\n",
    "    \n",
    "    return df\n",
    "\n",
    "\n",
    "\n"
   ]
  },
  {
   "cell_type": "code",
   "execution_count": 27,
   "id": "ff71f9cc",
   "metadata": {},
   "outputs": [
    {
     "data": {
      "text/plain": [
       "Index(['nb_first_stage_in_h2d', 'taskpool_id', 'first_stage_in_time_end',\n",
       "       'nb_sec_stage_in_d2d', 'stage_out_time_start', 'nb_first_stage_in_d2d',\n",
       "       'trc', 'tp_nb_tasks', 'task_count', 'task_type',\n",
       "       'sec_stage_in_time_start', 'nb_first_stage_in', 'complete_time_end',\n",
       "       'nb_sec_stage_in_h2d', 'device_index', 'priority', 'second_queue_time',\n",
       "       'exec_time_end', 'exec_stream_index', 'loc_C', 'node_id',\n",
       "       'first_stage_in_time_start', 'exec_time_start', 'first_waiting_tasks',\n",
       "       'id', 'nb_sec_stage_in', 'n', 'clock_speed', 'ready_tasks',\n",
       "       'task_progress', 'select_time', 'sec_stage_in_time_end',\n",
       "       'complete_time_start', 'first_queue_time', 'mig_status', 'end',\n",
       "       'class_id', 'begin', 'stage_out_time_end', 'type', 'complete_time', 'm',\n",
       "       'tcid', 'dc_key', 'sec_waiting_tasks', 'flags', 'dc_dataid',\n",
       "       'stream_id', 'tpid', 'dst', 'src', 'msg_size', 'tid', 'k', 'dc_padding',\n",
       "       'loc_A', 'size', 'loc_B', 'data_key', 'dc_id'],\n",
       "      dtype='object')"
      ]
     },
     "execution_count": 27,
     "metadata": {},
     "output_type": "execute_result"
    }
   ],
   "source": [
    "read_2_events.columns"
   ]
  },
  {
   "cell_type": "code",
   "execution_count": 17,
   "id": "771f21db",
   "metadata": {},
   "outputs": [],
   "source": [
    "tp_id = [10., 12., 14., 16., 22., 24., 26., 28., 30., 32., 34., 36., 38.,\n",
    "       42., 44., 46., 18., 20., 40.]"
   ]
  },
  {
   "cell_type": "code",
   "execution_count": 28,
   "id": "03b56827",
   "metadata": {},
   "outputs": [
    {
     "data": {
      "text/plain": [
       "array([None, 0.0, 37.0, 16.0, 70.0, 52.0, 47.0, 17.0, 6.0, 42.0, 43.0,\n",
       "       45.0, 81.0, 77.0, 87.0, 93.0, 1.0, 7.0, 8.0, 18.0, 79.0, 53.0,\n",
       "       58.0, 57.0, 56.0, 66.0, 10.0, 20.0, 40.0, 14.0, 61.0, 71.0, 98.0,\n",
       "       83.0, 80.0, 78.0, 97.0, 84.0, 82.0, 36.0, 34.0, 24.0, 2.0, 3.0,\n",
       "       4.0, 5.0, 15.0, 21.0, 27.0, 35.0, 41.0, 44.0, 48.0, 46.0, 63.0,\n",
       "       62.0, 69.0, 67.0, 65.0, 64.0, 60.0, 59.0, 55.0, 54.0, 51.0, 50.0,\n",
       "       49.0, 39.0, 38.0, 33.0, 32.0, 31.0, 30.0, 29.0, 28.0, 26.0, 25.0,\n",
       "       23.0, 22.0, 19.0, 13.0, 12.0, 11.0, 9.0, 101.0, 105.0, 107.0,\n",
       "       100.0, 94.0, 92.0, 104.0, 103.0, 99.0, 95.0, 76.0, 75.0, 85.0,\n",
       "       91.0, 90.0, 89.0, 68.0, 74.0, 102.0, 88.0, 73.0, 72.0, 86.0, 96.0,\n",
       "       108.0, 109.0, 110.0, 111.0, 112.0, 106.0, 114.0, 113.0],\n",
       "      dtype=object)"
      ]
     },
     "execution_count": 28,
     "metadata": {},
     "output_type": "execute_result"
    }
   ],
   "source": [
    "read_0_events['ready_tasks'].unique()"
   ]
  },
  {
   "cell_type": "markdown",
   "id": "d55f070e",
   "metadata": {},
   "source": [
    "## GEMM Tasks"
   ]
  },
  {
   "cell_type": "code",
   "execution_count": 18,
   "id": "7a2dc7fb",
   "metadata": {},
   "outputs": [],
   "source": [
    "df_GEMM_0 = filter_data_frame_class(read_0_events, GEMM_task_class_id)\n",
    "df_GEMM_1 = filter_data_frame_class(read_1_events, GEMM_task_class_id)\n",
    "df_GEMM_2 = filter_data_frame_class(read_2_events, GEMM_task_class_id)\n",
    "df_GEMM_3 = filter_data_frame_class(read_3_events, GEMM_task_class_id)"
   ]
  },
  {
   "cell_type": "code",
   "execution_count": 26,
   "id": "598f3eca",
   "metadata": {},
   "outputs": [
    {
     "data": {
      "text/plain": [
       "array([nan])"
      ]
     },
     "execution_count": 26,
     "metadata": {},
     "output_type": "execute_result"
    }
   ],
   "source": [
    "df_GEMM_3['ready_tasks'].unique()"
   ]
  },
  {
   "cell_type": "code",
   "execution_count": 19,
   "id": "c5d8f193",
   "metadata": {},
   "outputs": [
    {
     "data": {
      "image/png": "[encoded data removed]",
      "text/plain": [
       "<Figure size 1440x1440 with 5 Axes>"
      ]
     },
     "metadata": {
      "needs_background": "light"
     },
     "output_type": "display_data"
    }
   ],
   "source": [
    "\n",
    "\n",
    "fig = plt.figure(figsize=(20, 20))\n",
    "gs = GridSpec(nrows=5, ncols=1)\n",
    "\n",
    "colours=['red','red','orange','orange','orange','orange','orange','blue','blue','red','blue','red','blue', 'blue','red', 'blue', 'orange', 'blue','blue']\n",
    "\n",
    "gflops = [4567.170588, 4005.209511, 20617.670354, 20134.520392, 19304.971485, 11383.630668, 20456.241068, 17045.157896, 16402.052070, 8891.176050, 12305.456605, 4846.163159, 10353.838489, 16576.485269, 8250.884586, 16008.084627, 19415.471576, 15980.228127, 15464.653143]\n",
    "runs = [1, 2, 3, 4, 5, 6, 7, 8, 9, 10, 11, 12, 13, 14, 15, 16, 17, 18, 19]\n",
    "\n",
    "\n",
    "\n",
    "ax4 = fig.add_subplot(gs[0, 0])\n",
    "plt.plot(runs, gflops, marker=11)\n",
    "\n",
    "plt.axhline(y=8500,  color='red', linestyle='--')\n",
    "plt.axhline(y=18000,  color='blue', linestyle='--')\n",
    "plt.axhline(y=24000, color='orange', linestyle='--')\n",
    "\n",
    "plt.xticks(runs)\n",
    "ax4.set_ylabel('Performance (Gflops/s)')\n",
    "ax4.set_xlabel('Runs')\n",
    "\n",
    "\n",
    "\n",
    "ax0 = fig.add_subplot(gs[1, 0])\n",
    "sns.scatterplot(data=df_GEMM_0, x=\"complete_time\", y=\"ready_tasks\", hue='taskpool_id', palette=colours, ax=ax0).set_title(\"Node 0\", loc='left')\n",
    "ax0.set_ylabel('#Tasks')\n",
    "ax0.set_xlabel('Execution time(ns)')\n",
    "plt.legend([],[], frameon=False)\n",
    "\n",
    "\n",
    "ax1 = fig.add_subplot(gs[2, 0])\n",
    "sns.scatterplot(data=df_GEMM_1, x=\"complete_time\", y=\"ready_tasks\", hue='taskpool_id', palette=colours, ax=ax1).set_title(\"Node 1\", loc='left')\n",
    "ax1.set_ylabel('#Tasks')\n",
    "ax1.set_xlabel('Execution time(ns)')\n",
    "plt.legend([],[], frameon=False)\n",
    "\n",
    "ax2 = fig.add_subplot(gs[3, 0])\n",
    "sns.scatterplot(data=df_GEMM_2, x=\"complete_time\", y=\"ready_tasks\", hue='taskpool_id', palette=colours, ax=ax2).set_title(\"Node 2\", loc='left')\n",
    "ax2.set_ylabel('#Tasks')\n",
    "ax2.set_xlabel('Execution time(ns)')\n",
    "plt.legend([],[], frameon=False)\n",
    "\n",
    "ax3 = fig.add_subplot(gs[4, 0])\n",
    "sns.scatterplot(data=df_GEMM_3, x=\"complete_time\", y=\"ready_tasks\", hue='taskpool_id', palette=colours,  ax=ax3).set_title(\"Node 3\", loc='left')\n",
    "ax3.set_ylabel('#Tasks')\n",
    "ax3.set_xlabel('Execution time(ns)')\n",
    "plt.legend([],[], frameon=False)\n",
    "\n",
    "fig.savefig('GEMM_tasks_distr.png', dpi=300, bbox_inches='tight')\n"
   ]
  },
  {
   "cell_type": "code",
   "execution_count": null,
   "id": "09f1e0e7",
   "metadata": {},
   "outputs": [],
   "source": []
  },
  {
   "cell_type": "markdown",
   "id": "15ab4ff4",
   "metadata": {},
   "source": [
    "## READ Tasks"
   ]
  },
  {
   "cell_type": "code",
   "execution_count": null,
   "id": "f3a58691",
   "metadata": {},
   "outputs": [],
   "source": [
    "\n",
    "bad_tp = 12\n",
    "\n",
    "df_read_A_0 = filter_data_frame_class(read_0_events, 0)\n",
    "df_read_A_0_slow_tp = df_read_A_0.loc[ df_read_A_0['taskpool_id'] == bad_tp]\n",
    "\n",
    "df_read_B_0 = filter_data_frame_class(read_0_events, 2)\n",
    "df_read_B_0_slow_tp = df_read_B_0.loc[ df_read_B_0['taskpool_id'] == bad_tp]\n",
    "\n",
    "df_read_C_0 = filter_data_frame_class(read_0_events, 3)\n",
    "df_read_C_0_slow_tp = df_read_C_0.loc[ df_read_C_0['taskpool_id'] == bad_tp]\n",
    "\n",
    "df_read_A_1 = filter_data_frame_class(read_1_events, 0)\n",
    "df_read_A_1_slow_tp = df_read_A_1.loc[ df_read_A_1['taskpool_id'] == bad_tp]\n",
    "\n",
    "df_read_B_1 = filter_data_frame_class(read_1_events, 2)\n",
    "df_read_B_1_slow_tp = df_read_B_1.loc[ df_read_B_1['taskpool_id'] == bad_tp]\n",
    "\n",
    "df_read_C_1 = filter_data_frame_class(read_1_events, 3)\n",
    "df_read_C_1_slow_tp = df_read_C_1.loc[ df_read_C_1['taskpool_id'] == bad_tp]\n",
    "\n",
    "df_read_A_2 = filter_data_frame_class(read_2_events, 0)\n",
    "df_read_A_2_slow_tp = df_read_A_2.loc[ df_read_A_2['taskpool_id'] == bad_tp]\n",
    "\n",
    "df_read_B_2 = filter_data_frame_class(read_2_events, 2)\n",
    "df_read_B_2_slow_tp = df_read_B_2.loc[ df_read_B_2['taskpool_id'] == bad_tp]\n",
    "\n",
    "df_read_C_2 = filter_data_frame_class(read_2_events, 3)\n",
    "df_read_C_2_slow_tp = df_read_C_2.loc[ df_read_C_2['taskpool_id'] == bad_tp]\n",
    "\n",
    "df_read_A_3 = filter_data_frame_class(read_3_events, 0)\n",
    "df_read_A_3_slow_tp = df_read_A_3.loc[ df_read_A_3['taskpool_id'] == bad_tp]\n",
    "\n",
    "df_read_B_3 = filter_data_frame_class(read_3_events, 2)\n",
    "df_read_B_3_slow_tp = df_read_B_3.loc[ df_read_B_3['taskpool_id'] == bad_tp]\n",
    "\n",
    "df_read_C_3 = filter_data_frame_class(read_3_events, 3)\n",
    "df_read_C_3_slow_tp = df_read_C_3.loc[ df_read_C_3['taskpool_id'] == bad_tp]\n",
    "\n"
   ]
  },
  {
   "cell_type": "code",
   "execution_count": null,
   "id": "58c0b2c6",
   "metadata": {},
   "outputs": [],
   "source": [
    "fig = plt.figure(figsize=(10, 20))\n",
    "gs = GridSpec(nrows=4, ncols=1)\n",
    "\n",
    "#colours=['red','red','orange','orange','orange','orange','orange','blue','blue','red','blue','red','blue', 'blue','red', 'blue', 'orange', 'blue','blue']\n",
    "\n",
    "\n",
    "ax0 = fig.add_subplot(gs[0, 0])\n",
    "sns.scatterplot(data=df_read_A_0_slow_tp, x=\"begin\", y=1, label='READ_A', ax=ax0).set_title(\"Node 0\", loc='left')\n",
    "\n",
    "sns.scatterplot(data=df_read_B_0_slow_tp, x=\"begin\", y=2, label='READ_B', ax=ax0).set_title(\"Node 0\", loc='left')\n",
    "\n",
    "sns.scatterplot(data=df_read_C_0_slow_tp, x=\"begin\", y=3, label='READ_C', ax=ax0).set_title(\"Node 0\", loc='left')\n",
    "\n",
    "ax0.set_ylabel(' ')\n",
    "ax0.set_xlabel('Execution time(ns)')\n",
    "\n",
    "\n",
    "\n",
    "ax1 = fig.add_subplot(gs[1, 0])\n",
    "sns.scatterplot(data=df_read_A_1_slow_tp, x=\"begin\", y=1, label='READ_A', ax=ax1).set_title(\"Node 1\", loc='left')\n",
    "\n",
    "sns.scatterplot(data=df_read_B_1_slow_tp, x=\"begin\", y=2, label='READ_B', ax=ax1).set_title(\"Node 1\", loc='left')\n",
    "\n",
    "sns.scatterplot(data=df_read_C_1_slow_tp, x=\"begin\", y=3, label='READ_C', ax=ax1).set_title(\"Node 1\", loc='left')\n",
    "\n",
    "ax1.set_ylabel(' ')\n",
    "ax1.set_xlabel('Execution time(ns)')\n",
    "\n",
    "\n",
    "ax2 = fig.add_subplot(gs[2, 0])\n",
    "sns.scatterplot(data=df_read_A_2_slow_tp, x=\"begin\", y=1, label='READ_A', ax=ax2).set_title(\"Node 2\", loc='left')\n",
    "\n",
    "sns.scatterplot(data=df_read_B_2_slow_tp, x=\"begin\", y=2, label='READ_B', ax=ax2).set_title(\"Node 2\", loc='left')\n",
    "\n",
    "sns.scatterplot(data=df_read_C_2_slow_tp, x=\"begin\", y=3, label='READ_C', ax=ax2).set_title(\"Node 2\", loc='left')\n",
    "\n",
    "ax2.set_ylabel(' ')\n",
    "ax2.set_xlabel('Execution time(ns)')\n",
    "\n",
    "\n",
    "\n",
    "ax3 = fig.add_subplot(gs[3, 0])\n",
    "sns.scatterplot(data=df_read_A_3_slow_tp, x=\"begin\", y=1, label='READ_A', ax=ax3).set_title(\"Node 3\", loc='left')\n",
    "\n",
    "sns.scatterplot(data=df_read_B_3_slow_tp, x=\"begin\", y=2, label='READ_B', ax=ax3).set_title(\"Node 3\", loc='left')\n",
    "\n",
    "sns.scatterplot(data=df_read_C_3_slow_tp, x=\"begin\", y=3, label='READ_C', ax=ax3).set_title(\"Node 3\", loc='left')\n",
    "\n",
    "ax3.set_ylabel(' ')\n",
    "ax3.set_xlabel('Execution time(ns)')\n",
    "\n",
    "\n",
    "\n",
    "\n"
   ]
  },
  {
   "cell_type": "code",
   "execution_count": null,
   "id": "044d29a6",
   "metadata": {},
   "outputs": [],
   "source": []
  },
  {
   "cell_type": "markdown",
   "id": "d5169583",
   "metadata": {},
   "source": [
    "## GOOD performance"
   ]
  },
  {
   "cell_type": "code",
   "execution_count": null,
   "id": "c0a81aa0",
   "metadata": {},
   "outputs": [],
   "source": [
    "good_tp = 44\n",
    "\n",
    "df_read_A_0 = filter_data_frame_class(read_0_events, 0)\n",
    "df_read_A_0_fast_tp = df_read_A_0.loc[ df_read_A_0['taskpool_id'] == good_tp]\n",
    "\n",
    "df_read_B_0 = filter_data_frame_class(read_0_events, 2)\n",
    "df_read_B_0_fast_tp = df_read_B_0.loc[ df_read_B_0['taskpool_id'] == good_tp]\n",
    "\n",
    "df_read_C_0 = filter_data_frame_class(read_0_events, 3)\n",
    "df_read_C_0_fast_tp = df_read_C_0.loc[ df_read_C_0['taskpool_id'] == good_tp]\n",
    "\n",
    "df_read_A_1 = filter_data_frame_class(read_1_events, 0)\n",
    "df_read_A_1_fast_tp = df_read_A_1.loc[ df_read_A_1['taskpool_id'] == good_tp]\n",
    "\n",
    "df_read_B_1 = filter_data_frame_class(read_1_events, 2)\n",
    "df_read_B_1_fast_tp = df_read_B_1.loc[ df_read_B_1['taskpool_id'] == good_tp]\n",
    "\n",
    "df_read_C_1 = filter_data_frame_class(read_1_events, 3)\n",
    "df_read_C_1_fast_tp = df_read_C_1.loc[ df_read_C_1['taskpool_id'] == good_tp]\n",
    "\n",
    "df_read_A_2 = filter_data_frame_class(read_2_events, 0)\n",
    "df_read_A_2_fast_tp = df_read_A_2.loc[ df_read_A_2['taskpool_id'] == good_tp]\n",
    "\n",
    "df_read_B_2 = filter_data_frame_class(read_2_events, 2)\n",
    "df_read_B_2_fast_tp = df_read_B_2.loc[ df_read_B_2['taskpool_id'] == good_tp]\n",
    "\n",
    "df_read_C_2 = filter_data_frame_class(read_2_events, 3)\n",
    "df_read_C_2_fast_tp = df_read_C_2.loc[ df_read_C_2['taskpool_id'] == good_tp]\n",
    "\n",
    "df_read_A_3 = filter_data_frame_class(read_3_events, 0)\n",
    "df_read_A_3_fast_tp = df_read_A_3.loc[ df_read_A_3['taskpool_id'] == good_tp]\n",
    "\n",
    "df_read_B_3 = filter_data_frame_class(read_3_events, 2)\n",
    "df_read_B_3_fast_tp = df_read_B_3.loc[ df_read_B_3['taskpool_id'] == good_tp]\n",
    "\n",
    "df_read_C_3 = filter_data_frame_class(read_3_events, 3)\n",
    "df_read_C_3_fast_tp = df_read_C_3.loc[ df_read_C_3['taskpool_id'] == good_tp]\n",
    "\n",
    "\n",
    "\n"
   ]
  },
  {
   "cell_type": "code",
   "execution_count": null,
   "id": "9a54871d",
   "metadata": {},
   "outputs": [],
   "source": [
    "fig = plt.figure(figsize=(10, 20))\n",
    "gs = GridSpec(nrows=4, ncols=1)\n",
    "\n",
    "#colours=['red','red','orange','orange','orange','orange','orange','blue','blue','red','blue','red','blue', 'blue','red', 'blue', 'orange', 'blue','blue']\n",
    "\n",
    "\n",
    "ax0 = fig.add_subplot(gs[0, 0])\n",
    "sns.scatterplot(data=df_read_A_0_fast_tp, x=\"begin\", y=1, label='READ_A', ax=ax0).set_title(\"Node 0\", loc='left')\n",
    "\n",
    "sns.scatterplot(data=df_read_B_0_fast_tp, x=\"begin\", y=2, label='READ_B', ax=ax0).set_title(\"Node 0\", loc='left')\n",
    "\n",
    "sns.scatterplot(data=df_read_C_0_fast_tp, x=\"begin\", y=3, label='READ_C', ax=ax0).set_title(\"Node 0\", loc='left')\n",
    "\n",
    "ax0.set_ylabel(' ')\n",
    "ax0.set_xlabel('Execution time(ns)')\n",
    "\n",
    "\n",
    "\n",
    "ax1 = fig.add_subplot(gs[1, 0])\n",
    "sns.scatterplot(data=df_read_A_1_fast_tp, x=\"begin\", y=1, label='READ_A', ax=ax1).set_title(\"Node 1\", loc='left')\n",
    "\n",
    "sns.scatterplot(data=df_read_B_1_fast_tp, x=\"begin\", y=2, label='READ_B', ax=ax1).set_title(\"Node 1\", loc='left')\n",
    "\n",
    "sns.scatterplot(data=df_read_C_1_fast_tp, x=\"begin\", y=3, label='READ_C', ax=ax1).set_title(\"Node 1\", loc='left')\n",
    "\n",
    "ax1.set_ylabel(' ')\n",
    "ax1.set_xlabel('Execution time(ns)')\n",
    "\n",
    "\n",
    "ax2 = fig.add_subplot(gs[2, 0])\n",
    "sns.scatterplot(data=df_read_A_2_fast_tp, x=\"begin\", y=1, label='READ_A', ax=ax2).set_title(\"Node 2\", loc='left')\n",
    "\n",
    "sns.scatterplot(data=df_read_B_2_fast_tp, x=\"begin\", y=2, label='READ_B', ax=ax2).set_title(\"Node 2\", loc='left')\n",
    "\n",
    "sns.scatterplot(data=df_read_C_2_fast_tp, x=\"begin\", y=3, label='READ_C', ax=ax2).set_title(\"Node 2\", loc='left')\n",
    "\n",
    "ax2.set_ylabel(' ')\n",
    "ax2.set_xlabel('Execution time(ns)')\n",
    "\n",
    "\n",
    "\n",
    "ax3 = fig.add_subplot(gs[3, 0])\n",
    "sns.scatterplot(data=df_read_A_3_fast_tp, x=\"begin\", y=1, label='READ_A', ax=ax3).set_title(\"Node 3\", loc='left')\n",
    "\n",
    "sns.scatterplot(data=df_read_B_3_fast_tp, x=\"begin\", y=2, label='READ_B', ax=ax3).set_title(\"Node 3\", loc='left')\n",
    "\n",
    "sns.scatterplot(data=df_read_C_3_fast_tp, x=\"begin\", y=3, label='READ_C', ax=ax3).set_title(\"Node 3\", loc='left')\n",
    "\n",
    "ax3.set_ylabel(' ')\n",
    "ax3.set_xlabel('Execution time(ns)')\n",
    "\n",
    "\n",
    "\n",
    "\n"
   ]
  },
  {
   "cell_type": "markdown",
   "id": "340d97f6",
   "metadata": {},
   "source": [
    "## Combined"
   ]
  },
  {
   "cell_type": "code",
   "execution_count": null,
   "id": "0b09dae7",
   "metadata": {},
   "outputs": [],
   "source": [
    "fig = plt.figure(figsize=(30, 20))\n",
    "gs = GridSpec(nrows=4, ncols=2)\n",
    "\n",
    "ax0 = fig.add_subplot(gs[0, 0])\n",
    "sns.scatterplot(data=df_read_A_0_slow_tp, x=\"begin\", y=1, label='READ_A', ax=ax0).set_title(\"Node 0\", loc='left')\n",
    "\n",
    "sns.scatterplot(data=df_read_B_0_slow_tp, x=\"begin\", y=2, label='READ_B', ax=ax0).set_title(\"Node 0\", loc='left')\n",
    "\n",
    "sns.scatterplot(data=df_read_C_0_slow_tp, x=\"begin\", y=3, label='READ_C', ax=ax0).set_title(\"Node 0\", loc='left')\n",
    "\n",
    "ax0.set_ylabel(' ')\n",
    "ax0.set_yticklabels([])\n",
    "ax0.set_xlabel('Execution time(ns)')\n",
    "ax0.set_title('Slow Run')\n",
    "\n",
    "\n",
    "\n",
    "ax1 = fig.add_subplot(gs[1, 0])\n",
    "sns.scatterplot(data=df_read_A_1_slow_tp, x=\"begin\", y=1, label='READ_A', ax=ax1).set_title(\"Node 1\", loc='left')\n",
    "\n",
    "sns.scatterplot(data=df_read_B_1_slow_tp, x=\"begin\", y=2, label='READ_B', ax=ax1).set_title(\"Node 1\", loc='left')\n",
    "\n",
    "sns.scatterplot(data=df_read_C_1_slow_tp, x=\"begin\", y=3, label='READ_C', ax=ax1).set_title(\"Node 1\", loc='left')\n",
    "\n",
    "ax1.set_ylabel(' ')\n",
    "ax1.set_yticklabels([])\n",
    "ax1.set_xlabel('Execution time(ns)')\n",
    "\n",
    "\n",
    "ax2 = fig.add_subplot(gs[2, 0])\n",
    "sns.scatterplot(data=df_read_A_2_slow_tp, x=\"begin\", y=1, label='READ_A', ax=ax2).set_title(\"Node 2\", loc='left')\n",
    "\n",
    "sns.scatterplot(data=df_read_B_2_slow_tp, x=\"begin\", y=2, label='READ_B', ax=ax2).set_title(\"Node 2\", loc='left')\n",
    "\n",
    "sns.scatterplot(data=df_read_C_2_slow_tp, x=\"begin\", y=3, label='READ_C', ax=ax2).set_title(\"Node 2\", loc='left')\n",
    "\n",
    "ax2.set_ylabel(' ')\n",
    "ax2.set_yticklabels([])\n",
    "ax2.set_xlabel('Execution time(ns)')\n",
    "\n",
    "\n",
    "\n",
    "ax3 = fig.add_subplot(gs[3, 0])\n",
    "sns.scatterplot(data=df_read_A_3_slow_tp, x=\"begin\", y=1, label='READ_A', ax=ax3).set_title(\"Node 3\", loc='left')\n",
    "\n",
    "sns.scatterplot(data=df_read_B_3_slow_tp, x=\"begin\", y=2, label='READ_B', ax=ax3).set_title(\"Node 3\", loc='left')\n",
    "\n",
    "sns.scatterplot(data=df_read_C_3_slow_tp, x=\"begin\", y=3, label='READ_C', ax=ax3).set_title(\"Node 3\", loc='left')\n",
    "\n",
    "ax3.set_ylabel(' ')\n",
    "ax3.set_yticklabels([])\n",
    "ax3.set_xlabel('Execution time(ns)')\n",
    "\n",
    "\n",
    "########\n",
    "\n",
    "ax4 = fig.add_subplot(gs[0,1])\n",
    "sns.scatterplot(data=df_read_A_0_fast_tp, x=\"begin\", y=1, label='READ_A', ax=ax4).set_title(\"Node 0\", loc='left')\n",
    "\n",
    "sns.scatterplot(data=df_read_B_0_fast_tp, x=\"begin\", y=2, label='READ_B', ax=ax4).set_title(\"Node 0\", loc='left')\n",
    "\n",
    "sns.scatterplot(data=df_read_C_0_fast_tp, x=\"begin\", y=3, label='READ_C', ax=ax4).set_title(\"Node 0\", loc='left')\n",
    "\n",
    "ax4.set_ylabel(' ')\n",
    "ax4.set_yticklabels([])\n",
    "ax4.set_xlabel('Execution time(ns)')\n",
    "ax4.set_title('Fast Run')\n",
    "\n",
    "\n",
    "\n",
    "ax5 = fig.add_subplot(gs[1, 1])\n",
    "sns.scatterplot(data=df_read_A_1_fast_tp, x=\"begin\", y=1, label='READ_A', ax=ax5).set_title(\"Node 1\", loc='left')\n",
    "\n",
    "sns.scatterplot(data=df_read_B_1_fast_tp, x=\"begin\", y=2, label='READ_B', ax=ax5).set_title(\"Node 1\", loc='left')\n",
    "\n",
    "sns.scatterplot(data=df_read_C_1_fast_tp, x=\"begin\", y=3, label='READ_C', ax=ax5).set_title(\"Node 1\", loc='left')\n",
    "\n",
    "ax5.set_ylabel(' ')\n",
    "ax5.set_yticklabels([])\n",
    "ax5.set_xlabel('Execution time(ns)')\n",
    "\n",
    "\n",
    "ax6 = fig.add_subplot(gs[2, 1])\n",
    "sns.scatterplot(data=df_read_A_2_fast_tp, x=\"begin\", y=1, label='READ_A', ax=ax6).set_title(\"Node 2\", loc='left')\n",
    "\n",
    "sns.scatterplot(data=df_read_B_2_fast_tp, x=\"begin\", y=2, label='READ_B', ax=ax6).set_title(\"Node 2\", loc='left')\n",
    "\n",
    "sns.scatterplot(data=df_read_C_2_fast_tp, x=\"begin\", y=3, label='READ_C', ax=ax6).set_title(\"Node 2\", loc='left')\n",
    "\n",
    "ax6.set_ylabel(' ')\n",
    "ax6.set_yticklabels([])\n",
    "ax6.set_xlabel('Execution time(ns)')\n",
    "\n",
    "ax7 = fig.add_subplot(gs[3, 1])\n",
    "sns.scatterplot(data=df_read_A_3_fast_tp, x=\"begin\", y=1, label='READ_A', ax=ax7).set_title(\"Node 3\", loc='left')\n",
    "\n",
    "sns.scatterplot(data=df_read_B_3_fast_tp, x=\"begin\", y=2, label='READ_B', ax=ax7).set_title(\"Node 3\", loc='left')\n",
    "\n",
    "sns.scatterplot(data=df_read_C_3_fast_tp, x=\"begin\", y=3, label='READ_C', ax=ax7).set_title(\"Node 3\", loc='left')\n",
    "\n",
    "ax7.set_ylabel(' ')\n",
    "ax7.set_yticklabels([])\n",
    "ax7.set_xlabel('Execution time(ns)')\n",
    "\n",
    "plt.savefig('READ_tasks_combined.jpeg')"
   ]
  },
  {
   "cell_type": "code",
   "execution_count": null,
   "id": "8a0cff09",
   "metadata": {},
   "outputs": [],
   "source": []
  },
  {
   "cell_type": "code",
   "execution_count": null,
   "id": "274c8bec",
   "metadata": {},
   "outputs": [],
   "source": []
  },
  {
   "cell_type": "code",
   "execution_count": null,
   "id": "de720c6e",
   "metadata": {},
   "outputs": [],
   "source": []
  },
  {
   "cell_type": "code",
   "execution_count": null,
   "id": "6aa33d57",
   "metadata": {},
   "outputs": [],
   "source": []
  }
 ],
 "metadata": {
  "kernelspec": {
   "display_name": "Python 3 (ipykernel)",
   "language": "python",
   "name": "python3"
  },
  "language_info": {
   "codemirror_mode": {
    "name": "ipython",
    "version": 3
   },
   "file_extension": ".py",
   "mimetype": "text/x-python",
   "name": "python",
   "nbconvert_exporter": "python",
   "pygments_lexer": "ipython3",
   "version": "3.9.16"
  }
 },
 "nbformat": 4,
 "nbformat_minor": 5
}
