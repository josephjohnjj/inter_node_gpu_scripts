{
 "cells": [
  {
   "cell_type": "markdown",
   "id": "80586926",
   "metadata": {},
   "source": [
    "Analysis of inter-node task migration. The tasks migrated are GPU tasks. We use GEMM from dplasma for this analysis"
   ]
  },
  {
   "cell_type": "code",
   "execution_count": 18,
   "id": "6b0e3d21",
   "metadata": {},
   "outputs": [],
   "source": [
    "import matplotlib.pyplot as plt\n",
    "import numpy as np\n",
    "import pandas as pd\n",
    "import seaborn as sns\n",
    "import os\n",
    "import glob\n",
    "import math\n",
    "import statistics\n",
    "from matplotlib.gridspec import GridSpec\n",
    "\n",
    "from IPython.display import Image\n"
   ]
  },
  {
   "cell_type": "markdown",
   "id": "5f2e50dc",
   "metadata": {},
   "source": [
    "## Starvation"
   ]
  },
  {
   "cell_type": "markdown",
   "id": "4dd247a4",
   "metadata": {},
   "source": [
    "1. How do we detect starvation in a node?\n",
    "    * We test starvation on a well balanced GEMM. \n",
    "    * The migration test should give similar performance as without migration\n"
   ]
  },
  {
   "cell_type": "code",
   "execution_count": 19,
   "id": "2b9c4c49",
   "metadata": {},
   "outputs": [],
   "source": [
    "# GEMM M=N=K=50000 T=t=1000  \n",
    "\n",
    "starvation_nomig_gflops = [12973.275027, 15017.069926]"
   ]
  },
  {
   "cell_type": "code",
   "execution_count": 20,
   "id": "a11693cb",
   "metadata": {},
   "outputs": [],
   "source": [
    "starvation_count = [6, 12, 18, 30]\n",
    "\n",
    "starvation_mig_gflops = [1652.222758, 1958.744357, 1858.681339, 1064.431244]\n",
    "\n",
    "starvation_df = {\n",
    "    'starvation_count' : starvation_count,\n",
    "    'starvation_mig_gflops' : starvation_mig_gflops\n",
    "}\n",
    "\n",
    "\n"
   ]
  },
  {
   "cell_type": "code",
   "execution_count": 21,
   "id": "8a34ea5b",
   "metadata": {},
   "outputs": [
    {
     "data": {
      "text/plain": [
       "Text(0, 0.5, 'Performance \\n (GFlops/s)')"
      ]
     },
     "execution_count": 21,
     "metadata": {},
     "output_type": "execute_result"
    },
    {
     "data": {
      "image/png": "[encoded data removed]",
      "text/plain": [
       "<Figure size 1008x360 with 1 Axes>"
      ]
     },
     "metadata": {
      "needs_background": "light"
     },
     "output_type": "display_data"
    }
   ],
   "source": [
    "fig = plt.figure(figsize=(14, 5))\n",
    "gs = GridSpec(nrows=1, ncols=1)\n",
    "\n",
    "ax0 = fig.add_subplot(gs[0, 0])\n",
    "\n",
    "\n",
    "boxplot = sns.lineplot(data=starvation_df, x=starvation_count, y=starvation_mig_gflops, ax=ax0, marker=\"X\", label='with-migration', linestyle='-', color = 'blue')\n",
    "#ax0.fill_between(device, sparse_GEMM_thrashing['thrashing_nomig_min'], sparse_GEMM_thrashing['thrashing_nomig_max'], color = 'blue', alpha = 0.5)\n",
    "\n",
    "ax0.axhline(y=5816.742428, color='r')\n",
    "\n",
    "ax0.set_xlabel('#Starvation Limit')\n",
    "ax0.set_ylabel('Performance \\n (GFlops/s)')\n",
    "\n",
    "\n",
    "\n",
    "#plt.legend(loc='upper right')\n",
    "#plt.savefig('SPARSE_GEMM_thrashing_count.jpeg', dpi=300)"
   ]
  },
  {
   "cell_type": "code",
   "execution_count": 22,
   "id": "a721a75b",
   "metadata": {},
   "outputs": [],
   "source": [
    "nomig_normal = 1277.070567\n",
    "\n",
    "nomig_skew = 864.391059\n",
    "\n",
    "mig_normal = 980.138313\n",
    "\n",
    "mig_skew = 1073.271806\n"
   ]
  },
  {
   "cell_type": "markdown",
   "id": "2ab491f0",
   "metadata": {},
   "source": [
    "fig,ax = plt.subplots( figsize=(10, 4))\n",
    "\n",
    "\n",
    "boxplot = sns.lineplot(data=sparse_GEMM_data_range, x=\"device\", y=\"sparse_GEMM_gflops_NoMig_avg\", ax=ax, marker=\"X\", label='Epilogue not delegated', linestyle='-', color = 'blue')\n",
    "ax.fill_between(device, sparse_GEMM_data_range['sparse_GEMM_gflops_NoMig_min'], sparse_GEMM_data_range['sparse_GEMM_gflops_NoMig_max'], color = 'blue', alpha = 0.5)\n",
    "\n",
    "\n",
    "boxplot = sns.lineplot(data=sparse_GEMM_data_range, x=\"device\", y=\"sparse_GEMM_gflops_NoMig_coml_del_avg\", ax=ax, marker=\"X\", label='Epilogue delegated', linestyle='-', color = 'orange')\n",
    "ax.fill_between(device, sparse_GEMM_data_range['sparse_GEMM_gflops_NoMig_coml_del_min'], sparse_GEMM_data_range['sparse_GEMM_gflops_NoMig_coml_del_max'], color = 'orange', alpha = 0.5)\n",
    "\n",
    "\n",
    "\n",
    "ax.set_xlabel('#GPUs', fontsize=15)\n",
    "ax.set_ylabel('Performance \\n (Gflop/s)', fontsize=15)\n",
    "#ax.set_title('SPARSE GEMM (M=20000, N=800000, K=20000, m=n=k=100, selection=single-pass, chunk=1)')\n",
    "#ax.set_title('Without task migration')\n",
    "\n",
    "plt.legend(loc='upper left')\n",
    "ax.grid()\n",
    "# Set the axes title font size\n",
    "#plt.rc('axes', titlesize=2)\n",
    "\n",
    "plt.savefig('SPARSE_GEMM_gflops_range_nomig.jpeg', dpi=300)\n"
   ]
  },
  {
   "cell_type": "markdown",
   "id": "e33b1991",
   "metadata": {},
   "source": [
    "## Varaitions"
   ]
  },
  {
   "cell_type": "code",
   "execution_count": 23,
   "id": "d4b16652",
   "metadata": {
    "scrolled": true
   },
   "outputs": [
    {
     "data": {
      "text/html": [
       "<img src=\"lstopo.png\" width=\"800\" height=\"1200\"/>"
      ],
      "text/plain": [
       "<IPython.core.display.Image object>"
      ]
     },
     "execution_count": 23,
     "metadata": {},
     "output_type": "execute_result"
    }
   ],
   "source": [
    "Image(url=\"lstopo.png\", width=800, height=1200)"
   ]
  },
  {
   "cell_type": "code",
   "execution_count": 24,
   "id": "8f4dbe3a",
   "metadata": {
    "scrolled": true
   },
   "outputs": [
    {
     "data": {
      "text/html": [
       "<img src=\"compute_node.png\" width=\"600\" height=\"800\"/>"
      ],
      "text/plain": [
       "<IPython.core.display.Image object>"
      ]
     },
     "execution_count": 24,
     "metadata": {},
     "output_type": "execute_result"
    }
   ],
   "source": [
    "Image(url=\"compute_node.png\", width=600, height=800)"
   ]
  },
  {
   "cell_type": "code",
   "execution_count": 28,
   "id": "363c894c",
   "metadata": {},
   "outputs": [],
   "source": [
    "GPU1_without_binding_gflops = [10261.454551, 12746.163773, 8893.407422, 2933.504454, 7129.912786, 11862.623254, 5211.051938, 8790.430732, 8488.632935, 10284.647732]\n",
    "GPU1_with_binding_gflops = [15531.246586, 16479.126092, 17686.364955, 17560.630494, 17287.079493, 16573.118457, 15609.625464, 14332.443529, 17769.708829, 17769.708829, 13640.743342]\n",
    "\n",
    "GPU2_with_binding_gflops = [15173.790808, 17539.964162, 17024.270911, 17176.219397, 17429.144840, 17177.545368, 15579.529227, 16831.487022, 17099.279891, 15971.452195]\n",
    "\n",
    "GPU4_without_binding_gflops = [13539.421987, 15633.407185, 4602.018799, 3543.914026, 6228.664151, 5034.668661, 9596.982419, 15344.746914, 12773.211959, 15009.385115]\n",
    "GPU4_with_binding_gflops = [10780.417020, 11121.702463, 11816.450397, 10679.052802, 8384.197271, 5502.609879, 9053.987486, 11480.080615, 10104.280654, 9975.500451]\n",
    "\n",
    "GPU3_with_binding_gflops = [11092.321297, 10986.937205, 11270.516729, 12211.865154, 10281.543569, 10494.365129, 11817.418651, 10320.823548, 11711.193735, 9665.764234]\n",
    "\n",
    "\n"
   ]
  },
  {
   "cell_type": "code",
   "execution_count": 29,
   "id": "1c1ec973",
   "metadata": {},
   "outputs": [],
   "source": [
    "\n",
    "GPU1_without_binding = [min(GPU1_without_binding_gflops), sum(GPU1_without_binding_gflops)/len(GPU1_without_binding_gflops), max(GPU1_without_binding_gflops)]\n",
    "\n",
    "GPU1_with_binding = [min(GPU1_with_binding_gflops), sum(GPU1_with_binding_gflops)/len(GPU1_with_binding_gflops), max(GPU1_with_binding_gflops)]\n",
    "\n",
    "GPU2_with_binding = [min(GPU2_with_binding_gflops), sum(GPU2_with_binding_gflops)/len(GPU2_with_binding_gflops), max(GPU2_with_binding_gflops)]\n",
    "\n",
    "GPU4_without_binding = [min(GPU4_without_binding_gflops), sum(GPU4_without_binding_gflops)/len(GPU4_without_binding_gflops), max(GPU4_without_binding_gflops)]\n",
    "\n",
    "GPU4_with_binding = [min(GPU4_with_binding_gflops), sum(GPU4_with_binding_gflops)/len(GPU4_with_binding_gflops), max(GPU4_with_binding_gflops)]\n",
    "\n",
    "GPU3_with_binding = [min(GPU3_with_binding_gflops), sum(GPU3_with_binding_gflops)/len(GPU3_with_binding_gflops), max(GPU3_with_binding_gflops)]\n"
   ]
  },
  {
   "cell_type": "code",
   "execution_count": 30,
   "id": "84dbb245",
   "metadata": {},
   "outputs": [
    {
     "data": {
      "text/plain": [
       "(0.0, 18769.708829)"
      ]
     },
     "execution_count": 30,
     "metadata": {},
     "output_type": "execute_result"
    },
    {
     "data": {
      "image/png": "[encoded data removed]",
      "text/plain": [
       "<Figure size 1008x1080 with 6 Axes>"
      ]
     },
     "metadata": {
      "needs_background": "light"
     },
     "output_type": "display_data"
    }
   ],
   "source": [
    "fig = plt.figure(figsize=(14, 15))\n",
    "gs = GridSpec(nrows=3, ncols=2)\n",
    "\n",
    "ax0 = fig.add_subplot(gs[0, 0])\n",
    "\n",
    "barWidth = 0.25\n",
    "br1 = np.arange(len(GPU1_without_binding))\n",
    "br2 = [x + barWidth for x in br1]\n",
    "br3 = [x + barWidth for x in br2]\n",
    "br4 = [x + barWidth for x in br3]\n",
    "\n",
    "c = ['orange', 'blue', 'green']\n",
    "\n",
    "plt.bar(br1, GPU1_without_binding, width = barWidth, edgecolor ='grey', color = c)\n",
    "plt.xticks([0, 1, 2], ['Min', 'Avg', 'Max'])\n",
    "plt.ylabel('performance (GFlops/s)', fontweight ='bold', fontsize = 12)\n",
    "plt.title(\"1 GPU without binding\")\n",
    "\n",
    "ymax = max(max(GPU1_without_binding), max(GPU1_with_binding), max(GPU2_with_binding), max(GPU4_without_binding), max(GPU4_with_binding), max(GPU3_with_binding_gflops))\n",
    "ax = plt.gca()\n",
    "ax.set_ylim([0, ymax+1000])\n",
    "\n",
    "ax1 = fig.add_subplot(gs[0, 1])\n",
    "\n",
    "plt.bar(br1, GPU1_with_binding, width = barWidth, edgecolor ='grey', color = c)\n",
    "plt.xticks([0, 1, 2], ['Min', 'Avg', 'Max'])\n",
    "plt.ylabel('performance (GFlops/s)', fontweight ='bold', fontsize = 12)\n",
    "plt.title(\"1 GPU with binding\")\n",
    "\n",
    "ymax = max(max(GPU1_without_binding), max(GPU1_with_binding), max(GPU2_with_binding), max(GPU4_without_binding), max(GPU4_with_binding), max(GPU3_with_binding_gflops))\n",
    "ax = plt.gca()\n",
    "ax.set_ylim([0, ymax+1000])\n",
    "\n",
    "\n",
    "ax1 = fig.add_subplot(gs[1, 0])\n",
    "\n",
    "plt.bar(br1, GPU2_with_binding, width = barWidth, edgecolor ='grey', color = c)\n",
    "plt.xticks([0, 1, 2], ['Min', 'Avg', 'Max'])\n",
    "plt.ylabel('performance (GFlops/s)', fontweight ='bold', fontsize = 12)\n",
    "plt.title(\"2 GPU with binding\")\n",
    "\n",
    "ymax = max(max(GPU1_without_binding), max(GPU1_with_binding), max(GPU2_with_binding), max(GPU4_without_binding), max(GPU4_with_binding), max(GPU3_with_binding_gflops))\n",
    "ax = plt.gca()\n",
    "ax.set_ylim([0, ymax+1000])\n",
    "\n",
    "\n",
    "ax1 = fig.add_subplot(gs[1, 1])\n",
    "\n",
    "plt.bar(br1, GPU4_without_binding, width = barWidth, edgecolor ='grey', color = c)\n",
    "plt.xticks([0, 1, 2], ['Min', 'Avg', 'Max'])\n",
    "plt.ylabel('performance (GFlops/s)', fontweight ='bold', fontsize = 12)\n",
    "plt.title(\"4 GPU without binding\")\n",
    "\n",
    "ymax = max(max(GPU1_without_binding), max(GPU1_with_binding), max(GPU2_with_binding), max(GPU4_without_binding), max(GPU4_with_binding), max(GPU3_with_binding_gflops))\n",
    "ax = plt.gca()\n",
    "ax.set_ylim([0, ymax+1000])\n",
    "\n",
    "ax1 = fig.add_subplot(gs[2, 0])\n",
    "\n",
    "plt.bar(br1, GPU4_with_binding, width = barWidth, edgecolor ='grey', color = c)\n",
    "plt.xticks([0, 1, 2], ['Min', 'Avg', 'Max'])\n",
    "plt.ylabel('performance (GFlops/s)', fontweight ='bold', fontsize = 12)\n",
    "plt.title(\"4 GPU with binding\")\n",
    "\n",
    "ymax = max(max(GPU1_without_binding), max(GPU1_with_binding), max(GPU2_with_binding), max(GPU4_without_binding), max(GPU4_with_binding), max(GPU3_with_binding_gflops))\n",
    "ax = plt.gca()\n",
    "ax.set_ylim([0, ymax+1000])\n",
    "\n",
    "ax1 = fig.add_subplot(gs[2, 1])\n",
    "\n",
    "plt.bar(br1, GPU3_with_binding, width = barWidth, edgecolor ='grey', color = c)\n",
    "plt.xticks([0, 1, 2], ['Min', 'Avg', 'Max'])\n",
    "plt.ylabel('performance (GFlops/s)', fontweight ='bold', fontsize = 12)\n",
    "plt.title(\"3 GPU with binding\")\n",
    "\n",
    "ymax = max(max(GPU1_without_binding), max(GPU1_with_binding), max(GPU2_with_binding), max(GPU4_without_binding), max(GPU4_with_binding), max(GPU3_with_binding_gflops))\n",
    "ax = plt.gca()\n",
    "ax.set_ylim([0, ymax+1000])\n",
    "\n",
    "\n",
    "\n",
    "\n"
   ]
  },
  {
   "cell_type": "code",
   "execution_count": null,
   "id": "b1758994",
   "metadata": {},
   "outputs": [],
   "source": []
  }
 ],
 "metadata": {
  "kernelspec": {
   "display_name": "Python 3 (ipykernel)",
   "language": "python",
   "name": "python3"
  },
  "language_info": {
   "codemirror_mode": {
    "name": "ipython",
    "version": 3
   },
   "file_extension": ".py",
   "mimetype": "text/x-python",
   "name": "python",
   "nbconvert_exporter": "python",
   "pygments_lexer": "ipython3",
   "version": "3.9.16"
  }
 },
 "nbformat": 4,
 "nbformat_minor": 5
}
